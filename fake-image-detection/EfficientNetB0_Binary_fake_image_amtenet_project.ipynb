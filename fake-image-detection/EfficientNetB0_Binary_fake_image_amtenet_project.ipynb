{
 "cells": [
  {
   "cell_type": "code",
   "execution_count": 1,
   "metadata": {
    "colab": {
     "base_uri": "https://localhost:8080/"
    },
    "id": "rF8rBbiGEQ_y",
    "outputId": "c9bd1405-bcba-40f4-d31b-2a36312114fd"
   },
   "outputs": [
    {
     "name": "stdout",
     "output_type": "stream",
     "text": [
      "Sun Nov 21 17:05:34 2021       \n",
      "+-----------------------------------------------------------------------------+\n",
      "| NVIDIA-SMI 495.44       Driver Version: 460.32.03    CUDA Version: 11.2     |\n",
      "|-------------------------------+----------------------+----------------------+\n",
      "| GPU  Name        Persistence-M| Bus-Id        Disp.A | Volatile Uncorr. ECC |\n",
      "| Fan  Temp  Perf  Pwr:Usage/Cap|         Memory-Usage | GPU-Util  Compute M. |\n",
      "|                               |                      |               MIG M. |\n",
      "|===============================+======================+======================|\n",
      "|   0  Tesla P100-PCIE...  Off  | 00000000:00:04.0 Off |                    0 |\n",
      "| N/A   39C    P0    26W / 250W |      0MiB / 16280MiB |      0%      Default |\n",
      "|                               |                      |                  N/A |\n",
      "+-------------------------------+----------------------+----------------------+\n",
      "                                                                               \n",
      "+-----------------------------------------------------------------------------+\n",
      "| Processes:                                                                  |\n",
      "|  GPU   GI   CI        PID   Type   Process name                  GPU Memory |\n",
      "|        ID   ID                                                   Usage      |\n",
      "|=============================================================================|\n",
      "|  No running processes found                                                 |\n",
      "+-----------------------------------------------------------------------------+\n"
     ]
    }
   ],
   "source": [
    "gpu_info = !nvidia-smi\n",
    "gpu_info = '\\n'.join(gpu_info)\n",
    "if gpu_info.find('failed') >= 0:\n",
    "  print('Not connected to a GPU')\n",
    "else:\n",
    "  print(gpu_info)"
   ]
  },
  {
   "cell_type": "code",
   "execution_count": 2,
   "metadata": {
    "colab": {
     "base_uri": "https://localhost:8080/"
    },
    "id": "XH7Nq2GBETMy",
    "outputId": "d13371be-134f-4ecf-cbcf-4007634c240c"
   },
   "outputs": [
    {
     "name": "stdout",
     "output_type": "stream",
     "text": [
      "Your runtime has 13.6 gigabytes of available RAM\n",
      "\n",
      "Not using a high-RAM runtime\n"
     ]
    }
   ],
   "source": [
    "from psutil import virtual_memory\n",
    "ram_gb = virtual_memory().total / 1e9\n",
    "print('Your runtime has {:.1f} gigabytes of available RAM\\n'.format(ram_gb))\n",
    "\n",
    "if ram_gb < 20:\n",
    "  print('Not using a high-RAM runtime')\n",
    "else:\n",
    "  print('You are using a high-RAM runtime!')"
   ]
  },
  {
   "cell_type": "code",
   "execution_count": 3,
   "metadata": {
    "colab": {
     "base_uri": "https://localhost:8080/"
    },
    "id": "y2Aee6DOVQiP",
    "outputId": "e01d1567-85a2-4011-d7ba-c9a9458b29d2"
   },
   "outputs": [
    {
     "name": "stdout",
     "output_type": "stream",
     "text": [
      "Mounted at /content/gdrive\n"
     ]
    }
   ],
   "source": [
    "from google.colab import drive\n",
    "drive.mount(\"/content/gdrive\")\n"
   ]
  },
  {
   "cell_type": "code",
   "execution_count": 4,
   "metadata": {
    "cellView": "code",
    "colab": {
     "base_uri": "https://localhost:8080/"
    },
    "id": "SPxwTlmuHd1u",
    "outputId": "3a31abae-9d91-43d4-c38d-68aa5dfcf178"
   },
   "outputs": [
    {
     "name": "stdout",
     "output_type": "stream",
     "text": [
      "['fakeimage_detection_2.zip', 'deep_fake_detec1', 'deep_fake_detec2', 'deep_fake_detec3', 'fakeimage_detection_3.zip', 'fake_image_detection_4.zip']\n"
     ]
    }
   ],
   "source": [
    "import numpy as np # linear algebra\n",
    "import pandas as pd # data processing, CSV file I/O (e.g. pd.read_csv)\n",
    "\n",
    "import os\n",
    "print(os.listdir(\"./gdrive/MyDrive/ML DL datasets\"))"
   ]
  },
  {
   "cell_type": "code",
   "execution_count": null,
   "metadata": {},
   "outputs": [],
   "source": [
    "# unzp archive\n",
    "!unzip \"./gdrive/MyDrive/ML DL datasets/fake_image_detection_4.zip\""
   ]
  },
  {
   "cell_type": "code",
   "execution_count": 6,
   "metadata": {
    "colab": {
     "base_uri": "https://localhost:8080/"
    },
    "id": "9s2MVkKdHd12",
    "outputId": "272c73ef-5449-429b-9c88-787b5ccafc1d"
   },
   "outputs": [
    {
     "name": "stdout",
     "output_type": "stream",
     "text": [
      "fake_image_detection_4\tgdrive\t__MACOSX  sample_data\n"
     ]
    }
   ],
   "source": [
    "training_path = './fake_image_detection_4/train'\n",
    "test_path = './fake_image_detection_4/test'\n",
    "validation_path = './fake_image_detection_4/validation'\n",
    "!ls"
   ]
  },
  {
   "cell_type": "code",
   "execution_count": 7,
   "metadata": {
    "colab": {
     "base_uri": "https://localhost:8080/"
    },
    "id": "1k_vlo_5Hd13",
    "outputId": "443b84ae-5c1f-4008-c428-90f07ca5ab65"
   },
   "outputs": [
    {
     "name": "stdout",
     "output_type": "stream",
     "text": [
      "2.7.0\n"
     ]
    }
   ],
   "source": [
    "import math\n",
    "import tensorflow as tf\n",
    "from tensorflow.keras.models import Sequential\n",
    "from tensorflow.keras.layers import SeparableConv2D as Conv2D\n",
    "from tensorflow.keras.layers import MaxPooling2D\n",
    "from tensorflow.keras.layers import Flatten\n",
    "from tensorflow.keras.layers import Dense, Dropout\n",
    "from tensorflow.keras import optimizers\n",
    "from tensorflow.keras import regularizers\n",
    "from tensorflow.keras import layers\n",
    "from tensorflow.keras import activations\n",
    "from tensorflow.keras.callbacks import EarlyStopping, ModelCheckpoint\n",
    "\n",
    "print(tf. __version__) "
   ]
  },
  {
   "cell_type": "code",
   "execution_count": 8,
   "metadata": {
    "colab": {
     "base_uri": "https://localhost:8080/"
    },
    "id": "3TRE3TVbHd14",
    "outputId": "826c536d-f253-4492-89aa-9459a9c7e081"
   },
   "outputs": [
    {
     "name": "stdout",
     "output_type": "stream",
     "text": [
      "Num GPUs Available:  1\n"
     ]
    }
   ],
   "source": [
    "print(\"Num GPUs Available: \", len(tf.config.list_physical_devices('GPU')))"
   ]
  },
  {
   "cell_type": "code",
   "execution_count": 9,
   "metadata": {
    "id": "HMC-mvazHd18"
   },
   "outputs": [],
   "source": [
    "# import keras\n",
    "from tensorflow import keras\n",
    "from tensorflow.keras.preprocessing.image import ImageDataGenerator\n",
    "\n",
    "train_datagen = ImageDataGenerator(rescale = 1./255,\n",
    "                                   shear_range = 0.2,\n",
    "                                   zoom_range = 0.2,\n",
    "                                  #  rotation_range = 10,\n",
    "                                  #  width_shift_range = 0.1,\n",
    "                                  #  height_shift_range = 0.1,\n",
    "                                   horizontal_flip = True)\n",
    "valid_datagen = ImageDataGenerator(rescale = 1./255)"
   ]
  },
  {
   "cell_type": "code",
   "execution_count": 10,
   "metadata": {
    "colab": {
     "base_uri": "https://localhost:8080/"
    },
    "id": "tFOAUxVZHd18",
    "outputId": "17e83b98-0bac-4805-9f4a-03b2955e5be4"
   },
   "outputs": [
    {
     "name": "stdout",
     "output_type": "stream",
     "text": [
      "Found 107190 images belonging to 2 classes.\n"
     ]
    }
   ],
   "source": [
    "batch_size = 64\n",
    "input_size=128\n",
    "training_set = train_datagen.flow_from_directory(training_path,\n",
    "                                                 target_size = (input_size, input_size),\n",
    "                                                 batch_size = batch_size,\n",
    "                                                 class_mode = 'categorical')"
   ]
  },
  {
   "cell_type": "code",
   "execution_count": 11,
   "metadata": {
    "colab": {
     "base_uri": "https://localhost:8080/"
    },
    "id": "T4CWze7XHd19",
    "outputId": "a46ef959-5e0e-43a9-b310-be55b0edb297"
   },
   "outputs": [
    {
     "name": "stdout",
     "output_type": "stream",
     "text": [
      "Found 6699 images belonging to 2 classes.\n"
     ]
    }
   ],
   "source": [
    "validation_set = valid_datagen.flow_from_directory(validation_path,\n",
    "                                                 target_size = (input_size, input_size),\n",
    "                                                 batch_size = batch_size,\n",
    "                                                 class_mode = 'categorical')"
   ]
  },
  {
   "cell_type": "code",
   "execution_count": 13,
   "metadata": {
    "id": "o2JAAs5YN89W"
   },
   "outputs": [],
   "source": [
    "# stop_early = tf.keras.callbacks.EarlyStopping(monitor='val_accuracy', patience=2, verbose=2, baseline=0.801, min_delta=0.001)\n",
    "checkpoint_filepath = '/content/gdrive/MyDrive/dl_models/checkpoint'\n",
    "custom_callbacks = [\n",
    "    EarlyStopping(\n",
    "        monitor = 'val_loss',\n",
    "        mode = 'min',\n",
    "        patience = 5,\n",
    "        verbose = 1\n",
    "    ),\n",
    "    ModelCheckpoint(\n",
    "        filepath = os.path.join(checkpoint_filepath, 'best_model_EB0_1.h5'),\n",
    "        monitor = 'val_loss',\n",
    "        mode = 'min',\n",
    "        verbose = 1,\n",
    "        save_best_only = True\n",
    "    )\n",
    "]"
   ]
  },
  {
   "cell_type": "code",
   "execution_count": 16,
   "metadata": {
    "colab": {
     "base_uri": "https://localhost:8080/"
    },
    "id": "3XWk842QNk-9",
    "outputId": "6b753920-d62d-427b-ac61-24b6a150e294"
   },
   "outputs": [
    {
     "name": "stdout",
     "output_type": "stream",
     "text": [
      "Downloading data from https://github.com/Callidior/keras-applications/releases/download/efficientnet/efficientnet-b0_weights_tf_dim_ordering_tf_kernels_autoaugment_notop.h5\n",
      "16809984/16804768 [==============================] - 0s 0us/step\n",
      "16818176/16804768 [==============================] - 0s 0us/step\n",
      "Model: \"sequential\"\n",
      "_________________________________________________________________\n",
      " Layer (type)                Output Shape              Param #   \n",
      "=================================================================\n",
      " efficientnet-b0 (Functional  (None, 1280)             4049564   \n",
      " )                                                               \n",
      "                                                                 \n",
      " dense (Dense)               (None, 300)               384300    \n",
      "                                                                 \n",
      " dropout (Dropout)           (None, 300)               0         \n",
      "                                                                 \n",
      " dense_1 (Dense)             (None, 300)               90300     \n",
      "                                                                 \n",
      " dropout_1 (Dropout)         (None, 300)               0         \n",
      "                                                                 \n",
      " dense_2 (Dense)             (None, 2)                 602       \n",
      "                                                                 \n",
      "=================================================================\n",
      "Total params: 4,524,766\n",
      "Trainable params: 4,482,750\n",
      "Non-trainable params: 42,016\n",
      "_________________________________________________________________\n"
     ]
    }
   ],
   "source": [
    "# efficientnet transfer learning\n",
    "from efficientnet.tfkeras import EfficientNetB0\n",
    "efficient_net = EfficientNetB0(\n",
    "    weights = 'imagenet',\n",
    "    input_shape = (input_size, input_size, 3),\n",
    "    include_top = False,\n",
    "    pooling = 'max'\n",
    ")\n",
    "\n",
    "classifier = Sequential()\n",
    "classifier.add(efficient_net)\n",
    "classifier.add(Dense(units = 300, activation = 'relu', kernel_regularizer=regularizers.l1_l2(l1=0.001, l2=0.001)))\n",
    "classifier.add(Dropout(0.2))\n",
    "classifier.add(Dense(units = 300, activation = 'relu', kernel_regularizer=regularizers.l1_l2(l1=0.001, l2=0.001)))\n",
    "classifier.add(Dropout(0.2))\n",
    "classifier.add(Dense(units = 2, activation = 'softmax'))\n",
    "classifier.summary()\n",
    "classifier.compile(optimizer = optimizers.Adam(learning_rate=0.001), loss = 'categorical_crossentropy', metrics = ['accuracy'])"
   ]
  },
  {
   "cell_type": "code",
   "execution_count": 17,
   "metadata": {
    "colab": {
     "base_uri": "https://localhost:8080/"
    },
    "id": "qkzVr81rvP3j",
    "outputId": "c2fb2793-8874-4811-9296-34fe3ed29ae3"
   },
   "outputs": [
    {
     "name": "stdout",
     "output_type": "stream",
     "text": [
      "Epoch 1/10\n",
      "1675/1675 [==============================] - ETA: 0s - loss: 1.4040 - accuracy: 0.9111\n",
      "Epoch 00001: val_loss improved from inf to 0.28739, saving model to /content/gdrive/MyDrive/dl_models/checkpoint/best_model_EB0_1.h5\n"
     ]
    },
    {
     "name": "stderr",
     "output_type": "stream",
     "text": [
      "/usr/local/lib/python3.7/dist-packages/keras/engine/functional.py:1410: CustomMaskWarning: Custom mask layers require a config and must override get_config. When loading, the custom mask layer must be passed to the custom_objects argument.\n",
      "  layer_config = serialize_layer_fn(layer)\n"
     ]
    },
    {
     "name": "stdout",
     "output_type": "stream",
     "text": [
      "\b\b\b\b\b\b\b\b\b\b\b\b\b\b\b\b\b\b\b\b\b\b\b\b\b\b\b\b\b\b\b\b\b\b\b\b\b\b\b\b\b\b\b\b\b\b\b\b\b\b\b\b\b\b\b\b\b\b\b\b\b\b\b\b\b\b\b\b\b\b\b\b\b\b\b\b\b\b\b\b\b\b\b\b\b\b\r\n",
      "1675/1675 [==============================] - 1029s 598ms/step - loss: 1.4040 - accuracy: 0.9111 - val_loss: 0.2874 - val_accuracy: 0.8986\n",
      "Epoch 2/10\n",
      "1675/1675 [==============================] - ETA: 0s - loss: 0.2228 - accuracy: 0.9399\n",
      "Epoch 00002: val_loss did not improve from 0.28739\n",
      "1675/1675 [==============================] - 939s 561ms/step - loss: 0.2228 - accuracy: 0.9399 - val_loss: 0.3044 - val_accuracy: 0.9139\n",
      "Epoch 3/10\n",
      "1675/1675 [==============================] - ETA: 0s - loss: 0.2004 - accuracy: 0.9501\n",
      "Epoch 00003: val_loss improved from 0.28739 to 0.20223, saving model to /content/gdrive/MyDrive/dl_models/checkpoint/best_model_EB0_1.h5\n",
      "1675/1675 [==============================] - 929s 554ms/step - loss: 0.2004 - accuracy: 0.9501 - val_loss: 0.2022 - val_accuracy: 0.9433\n",
      "Epoch 4/10\n",
      "1675/1675 [==============================] - ETA: 0s - loss: 0.1842 - accuracy: 0.9564\n",
      "Epoch 00004: val_loss did not improve from 0.20223\n",
      "1675/1675 [==============================] - 935s 558ms/step - loss: 0.1842 - accuracy: 0.9564 - val_loss: 0.3719 - val_accuracy: 0.8880\n",
      "Epoch 5/10\n",
      "1675/1675 [==============================] - ETA: 0s - loss: 0.1702 - accuracy: 0.9598\n",
      "Epoch 00005: val_loss did not improve from 0.20223\n",
      "1675/1675 [==============================] - 933s 557ms/step - loss: 0.1702 - accuracy: 0.9598 - val_loss: 0.3385 - val_accuracy: 0.8970\n",
      "Epoch 6/10\n",
      "1675/1675 [==============================] - ETA: 0s - loss: 0.1900 - accuracy: 0.9632\n",
      "Epoch 00006: val_loss did not improve from 0.20223\n",
      "1675/1675 [==============================] - 927s 553ms/step - loss: 0.1900 - accuracy: 0.9632 - val_loss: 0.3792 - val_accuracy: 0.8912\n",
      "Epoch 7/10\n",
      "1675/1675 [==============================] - ETA: 0s - loss: 0.1515 - accuracy: 0.9668\n",
      "Epoch 00007: val_loss did not improve from 0.20223\n",
      "1675/1675 [==============================] - 932s 556ms/step - loss: 0.1515 - accuracy: 0.9668 - val_loss: 0.3164 - val_accuracy: 0.9066\n",
      "Epoch 8/10\n",
      "1675/1675 [==============================] - ETA: 0s - loss: 0.1491 - accuracy: 0.9681\n",
      "Epoch 00008: val_loss improved from 0.20223 to 0.17230, saving model to /content/gdrive/MyDrive/dl_models/checkpoint/best_model_EB0_1.h5\n",
      "1675/1675 [==============================] - 935s 558ms/step - loss: 0.1491 - accuracy: 0.9681 - val_loss: 0.1723 - val_accuracy: 0.9536\n",
      "Epoch 9/10\n",
      "1675/1675 [==============================] - ETA: 0s - loss: 0.1458 - accuracy: 0.9695\n",
      "Epoch 00009: val_loss did not improve from 0.17230\n",
      "1675/1675 [==============================] - 934s 558ms/step - loss: 0.1458 - accuracy: 0.9695 - val_loss: 0.1877 - val_accuracy: 0.9440\n",
      "Epoch 10/10\n",
      "1675/1675 [==============================] - ETA: 0s - loss: 0.1417 - accuracy: 0.9718\n",
      "Epoch 00010: val_loss improved from 0.17230 to 0.14663, saving model to /content/gdrive/MyDrive/dl_models/checkpoint/best_model_EB0_1.h5\n",
      "1675/1675 [==============================] - 935s 558ms/step - loss: 0.1417 - accuracy: 0.9718 - val_loss: 0.1466 - val_accuracy: 0.9681\n"
     ]
    }
   ],
   "source": [
    "# 1693 or 3386\n",
    "history = classifier.fit(\n",
    "                        training_set,\n",
    "                        steps_per_epoch=len(training_set),\n",
    "                        epochs=10,\n",
    "                        verbose=1,\n",
    "                        validation_data=validation_set,\n",
    "                        callbacks = custom_callbacks\n",
    "                         )"
   ]
  },
  {
   "cell_type": "code",
   "execution_count": null,
   "metadata": {
    "colab": {
     "base_uri": "https://localhost:8080/"
    },
    "id": "NUuSruwQHd1_",
    "outputId": "f7dd649e-f872-4a09-8383-7d831901b9c6"
   },
   "outputs": [
    {
     "name": "stderr",
     "output_type": "stream",
     "text": [
      "/usr/local/lib/python3.7/dist-packages/keras/engine/functional.py:1410: CustomMaskWarning: Custom mask layers require a config and must override get_config. When loading, the custom mask layer must be passed to the custom_objects argument.\n",
      "  layer_config = serialize_layer_fn(layer)\n"
     ]
    }
   ],
   "source": [
    "save_path = '/content/gdrive/MyDrive/dl_models/'\n",
    "model_name = 'categorical_fake_image_classifierEfB80.h5'\n",
    "classifier.save(save_path + model_name)"
   ]
  },
  {
   "cell_type": "code",
   "execution_count": null,
   "metadata": {
    "colab": {
     "base_uri": "https://localhost:8080/"
    },
    "id": "MNJpauVDkq-v",
    "outputId": "0eff0976-ee6e-470a-949b-ffa24b59436c"
   },
   "outputs": [
    {
     "name": "stdout",
     "output_type": "stream",
     "text": [
      "fake_image_classifierEfB80.h5\n"
     ]
    }
   ],
   "source": [
    "!ls  /content/gdrive/MyDrive/dl_models"
   ]
  },
  {
   "cell_type": "code",
   "execution_count": 18,
   "metadata": {
    "id": "5wyIyooFHd2A"
   },
   "outputs": [],
   "source": [
    "from keras.models import load_model\n",
    "best_model = '/content/gdrive/MyDrive/dl_models/checkpoint/best_model_EB0_1.h5'\n",
    "model = load_model(best_model)\n",
    "# classifier = model"
   ]
  },
  {
   "cell_type": "markdown",
   "metadata": {
    "id": "zoyK_-XvMIX_"
   },
   "source": [
    "**Prediction section**"
   ]
  },
  {
   "cell_type": "code",
   "execution_count": 87,
   "metadata": {
    "id": "KwpGy79PHd2A"
   },
   "outputs": [],
   "source": [
    "def predict_images(folder, image_name):\n",
    "    #Making Single new prediction\n",
    "    import numpy as np\n",
    "    #from keras.preprocessing.image import image\n",
    "    import keras.preprocessing.image as image\n",
    "    test_image = image.load_img(f'./fake_image_detection_4/test/{folder}/{image_name}', target_size = (input_size, input_size))\n",
    "    test_image = image.img_to_array(test_image)\n",
    "    test_image = test_image /255.\n",
    "    #use this function to change the image from 2dimension(64, 64) to 3dimension(64, 64, 3)\n",
    "    test_image = np.expand_dims(test_image, axis=0)\n",
    "    #add one more dimension before predicting because the predict method expects a batch\n",
    "    images = np.vstack([test_image])\n",
    "    result = model.predict(images, batch_size=10)\n",
    "\n",
    "    prediction = ''\n",
    "    if np.argmax(result) == 0:\n",
    "      prediction = 'fake'\n",
    "    elif np.argmax(result) == 1:\n",
    "      prediction = 'real'\n",
    "    return prediction"
   ]
  },
  {
   "cell_type": "code",
   "execution_count": 88,
   "metadata": {
    "id": "mogCF2HeHd2B"
   },
   "outputs": [],
   "source": [
    "\n",
    "import os\n",
    "fake_images = os.listdir(\"./fake_image_detection_4/test/fake\")\n",
    "real_images = os.listdir(\"./fake_image_detection_4/test/real\")\n",
    "\n",
    "res_fake = []\n",
    "res_real = []\n",
    "\n",
    "for image_name in fake_images:\n",
    "    res_fake.append(predict_images('fake', image_name))\n",
    "for image_name in real_images:\n",
    "    res_real.append(predict_images('real', image_name))"
   ]
  },
  {
   "cell_type": "code",
   "execution_count": 89,
   "metadata": {
    "colab": {
     "base_uri": "https://localhost:8080/"
    },
    "id": "kAT_cuWdHd2B",
    "outputId": "ba607de9-6a8b-44d5-e67d-0a95b133b14c"
   },
   "outputs": [
    {
     "data": {
      "text/plain": [
       "(Counter({'fake': 9949, 'real': 100}), Counter({'fake': 552, 'real': 9497}))"
      ]
     },
     "execution_count": 89,
     "metadata": {},
     "output_type": "execute_result"
    }
   ],
   "source": [
    "from collections import Counter\n",
    "results = (Counter(res_fake), Counter(res_real))\n",
    "results"
   ]
  }
 ],
 "metadata": {
  "accelerator": "GPU",
  "colab": {
   "collapsed_sections": [],
   "machine_shape": "hm",
   "name": "Binary fake_image_amtenet_project.ipynb",
   "provenance": []
  },
  "kernelspec": {
   "display_name": "Python 3",
   "language": "python",
   "name": "python3"
  },
  "language_info": {
   "codemirror_mode": {
    "name": "ipython",
    "version": 3
   },
   "file_extension": ".py",
   "mimetype": "text/x-python",
   "name": "python",
   "nbconvert_exporter": "python",
   "pygments_lexer": "ipython3",
   "version": "3.9.6"
  },
  "vscode": {
   "interpreter": {
    "hash": "31f2aee4e71d21fbe5cf8b01ff0e069b9275f58929596ceb00d14d90e3e16cd6"
   }
  }
 },
 "nbformat": 4,
 "nbformat_minor": 1
}

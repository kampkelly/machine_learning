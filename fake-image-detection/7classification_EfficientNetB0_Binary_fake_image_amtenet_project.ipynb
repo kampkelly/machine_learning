{
 "cells": [
  {
   "cell_type": "code",
   "execution_count": 1,
   "metadata": {
    "colab": {
     "base_uri": "https://localhost:8080/"
    },
    "id": "rF8rBbiGEQ_y",
    "outputId": "4470f3fb-a56b-4392-febd-7a2ff0bc3ba4"
   },
   "outputs": [
    {
     "name": "stdout",
     "output_type": "stream",
     "text": [
      "Mon Nov 22 09:17:19 2021       \n",
      "+-----------------------------------------------------------------------------+\n",
      "| NVIDIA-SMI 495.44       Driver Version: 460.32.03    CUDA Version: 11.2     |\n",
      "|-------------------------------+----------------------+----------------------+\n",
      "| GPU  Name        Persistence-M| Bus-Id        Disp.A | Volatile Uncorr. ECC |\n",
      "| Fan  Temp  Perf  Pwr:Usage/Cap|         Memory-Usage | GPU-Util  Compute M. |\n",
      "|                               |                      |               MIG M. |\n",
      "|===============================+======================+======================|\n",
      "|   0  Tesla P100-PCIE...  Off  | 00000000:00:04.0 Off |                    0 |\n",
      "| N/A   33C    P0    27W / 250W |      0MiB / 16280MiB |      0%      Default |\n",
      "|                               |                      |                  N/A |\n",
      "+-------------------------------+----------------------+----------------------+\n",
      "                                                                               \n",
      "+-----------------------------------------------------------------------------+\n",
      "| Processes:                                                                  |\n",
      "|  GPU   GI   CI        PID   Type   Process name                  GPU Memory |\n",
      "|        ID   ID                                                   Usage      |\n",
      "|=============================================================================|\n",
      "|  No running processes found                                                 |\n",
      "+-----------------------------------------------------------------------------+\n"
     ]
    }
   ],
   "source": [
    "gpu_info = !nvidia-smi\n",
    "gpu_info = '\\n'.join(gpu_info)\n",
    "if gpu_info.find('failed') >= 0:\n",
    "  print('Not connected to a GPU')\n",
    "else:\n",
    "  print(gpu_info)"
   ]
  },
  {
   "cell_type": "code",
   "execution_count": 2,
   "metadata": {
    "colab": {
     "base_uri": "https://localhost:8080/"
    },
    "id": "XH7Nq2GBETMy",
    "outputId": "2fac3f60-ef39-44c2-a4f3-82ed31553e2c"
   },
   "outputs": [
    {
     "name": "stdout",
     "output_type": "stream",
     "text": [
      "Your runtime has 13.6 gigabytes of available RAM\n",
      "\n",
      "Not using a high-RAM runtime\n"
     ]
    }
   ],
   "source": [
    "from psutil import virtual_memory\n",
    "ram_gb = virtual_memory().total / 1e9\n",
    "print('Your runtime has {:.1f} gigabytes of available RAM\\n'.format(ram_gb))\n",
    "\n",
    "if ram_gb < 20:\n",
    "  print('Not using a high-RAM runtime')\n",
    "else:\n",
    "  print('You are using a high-RAM runtime!')"
   ]
  },
  {
   "cell_type": "code",
   "execution_count": 3,
   "metadata": {
    "colab": {
     "base_uri": "https://localhost:8080/"
    },
    "id": "y2Aee6DOVQiP",
    "outputId": "30c46dbb-599b-4c70-bfca-8720a791c68b"
   },
   "outputs": [
    {
     "name": "stdout",
     "output_type": "stream",
     "text": [
      "Mounted at /content/gdrive\n"
     ]
    }
   ],
   "source": [
    "from google.colab import drive\n",
    "drive.mount(\"/content/gdrive\")\n"
   ]
  },
  {
   "cell_type": "code",
   "execution_count": 5,
   "metadata": {
    "cellView": "code",
    "colab": {
     "base_uri": "https://localhost:8080/"
    },
    "id": "SPxwTlmuHd1u",
    "outputId": "acc609d4-c687-43a7-a2f7-e9d642eccf6a"
   },
   "outputs": [
    {
     "name": "stdout",
     "output_type": "stream",
     "text": [
      "['fakeimage_detection_2.zip', 'deep_fake_detec1', 'deep_fake_detec2', 'deep_fake_detec3', 'fakeimage_detection_3.zip', 'fake_image_detection_4.zip']\n"
     ]
    }
   ],
   "source": [
    "import numpy as np # linear algebra\n",
    "import pandas as pd # data processing, CSV file I/O (e.g. pd.read_csv)\n",
    "\n",
    "import os\n",
    "print(os.listdir(\"./gdrive/MyDrive/ML DL datasets\"))"
   ]
  },
  {
   "cell_type": "code",
   "execution_count": null,
   "metadata": {},
   "outputs": [],
   "source": [
    "# unzp archive\n",
    "!unzip \"./gdrive/MyDrive/ML DL datasets/fake_image_detection_4.zip\""
   ]
  },
  {
   "cell_type": "code",
   "execution_count": 12,
   "metadata": {
    "colab": {
     "base_uri": "https://localhost:8080/"
    },
    "id": "9s2MVkKdHd12",
    "outputId": "28355ae3-00db-4798-9dc8-b57b5c4f4737"
   },
   "outputs": [
    {
     "name": "stdout",
     "output_type": "stream",
     "text": [
      "fakeimage_detection_3  gdrive  __MACOSX  sample_data\n"
     ]
    }
   ],
   "source": [
    "training_path = './fakeimage_detection_3/train'\n",
    "test_path = './fakeimage_detection_3/test'\n",
    "validation_path = './fakeimage_detection_3/validation'\n",
    "!ls"
   ]
  },
  {
   "cell_type": "code",
   "execution_count": 13,
   "metadata": {
    "colab": {
     "base_uri": "https://localhost:8080/"
    },
    "id": "1k_vlo_5Hd13",
    "outputId": "f88bb897-6747-4886-b3c2-423eb9e1403e"
   },
   "outputs": [
    {
     "name": "stdout",
     "output_type": "stream",
     "text": [
      "2.7.0\n"
     ]
    }
   ],
   "source": [
    "import math\n",
    "import tensorflow as tf\n",
    "from tensorflow.keras.models import Sequential\n",
    "from tensorflow.keras.layers import SeparableConv2D as Conv2D\n",
    "from tensorflow.keras.layers import MaxPooling2D\n",
    "from tensorflow.keras.layers import Flatten\n",
    "from tensorflow.keras.layers import Dense, Dropout\n",
    "from tensorflow.keras import optimizers\n",
    "from tensorflow.keras import regularizers\n",
    "from tensorflow.keras import layers\n",
    "from tensorflow.keras import activations\n",
    "from tensorflow.keras.callbacks import EarlyStopping, ModelCheckpoint\n",
    "\n",
    "print(tf. __version__) "
   ]
  },
  {
   "cell_type": "code",
   "execution_count": 14,
   "metadata": {
    "colab": {
     "base_uri": "https://localhost:8080/"
    },
    "id": "3TRE3TVbHd14",
    "outputId": "113c9454-43d8-4d30-c9c2-63005a4aeded"
   },
   "outputs": [
    {
     "name": "stdout",
     "output_type": "stream",
     "text": [
      "Num GPUs Available:  1\n"
     ]
    }
   ],
   "source": [
    "print(\"Num GPUs Available: \", len(tf.config.list_physical_devices('GPU')))"
   ]
  },
  {
   "cell_type": "code",
   "execution_count": 15,
   "metadata": {
    "id": "HMC-mvazHd18"
   },
   "outputs": [],
   "source": [
    "# import keras\n",
    "from tensorflow import keras\n",
    "from tensorflow.keras.preprocessing.image import ImageDataGenerator\n",
    "\n",
    "train_datagen = ImageDataGenerator(rescale = 1./255,\n",
    "                                   shear_range = 0.2,\n",
    "                                   zoom_range = 0.2,\n",
    "                                  #  rotation_range = 10,\n",
    "                                  #  width_shift_range = 0.1,\n",
    "                                  #  height_shift_range = 0.1,\n",
    "                                   horizontal_flip = True)\n",
    "valid_datagen = ImageDataGenerator(rescale = 1./255)"
   ]
  },
  {
   "cell_type": "code",
   "execution_count": 16,
   "metadata": {
    "colab": {
     "base_uri": "https://localhost:8080/"
    },
    "id": "tFOAUxVZHd18",
    "outputId": "2ac56914-1873-4348-a942-64dbe9f5fc76"
   },
   "outputs": [
    {
     "name": "stdout",
     "output_type": "stream",
     "text": [
      "Found 97997 images belonging to 7 classes.\n"
     ]
    }
   ],
   "source": [
    "batch_size = 64\n",
    "input_size=128\n",
    "training_set = train_datagen.flow_from_directory(training_path,\n",
    "                                                 target_size = (input_size, input_size),\n",
    "                                                 batch_size = batch_size,\n",
    "                                                 class_mode = 'categorical')"
   ]
  },
  {
   "cell_type": "code",
   "execution_count": 17,
   "metadata": {
    "colab": {
     "base_uri": "https://localhost:8080/"
    },
    "id": "T4CWze7XHd19",
    "outputId": "05f5723f-1786-4bd6-b3a9-1f43ceca9fdc"
   },
   "outputs": [
    {
     "name": "stdout",
     "output_type": "stream",
     "text": [
      "Found 5248 images belonging to 7 classes.\n"
     ]
    }
   ],
   "source": [
    "validation_set = valid_datagen.flow_from_directory(validation_path,\n",
    "                                                 target_size = (input_size, input_size),\n",
    "                                                 batch_size = batch_size,\n",
    "                                                 class_mode = 'categorical')"
   ]
  },
  {
   "cell_type": "code",
   "execution_count": 18,
   "metadata": {
    "id": "o2JAAs5YN89W"
   },
   "outputs": [],
   "source": [
    "# stop_early = tf.keras.callbacks.EarlyStopping(monitor='val_accuracy', patience=2, verbose=2, baseline=0.801, min_delta=0.001)\n",
    "checkpoint_filepath = '/content/gdrive/MyDrive/dl_models/checkpoint'\n",
    "custom_callbacks = [\n",
    "    EarlyStopping(\n",
    "        monitor = 'val_loss',\n",
    "        mode = 'min',\n",
    "        patience = 5,\n",
    "        verbose = 1\n",
    "    ),\n",
    "    ModelCheckpoint(\n",
    "        filepath = os.path.join(checkpoint_filepath, 'best_model_EB0_7_classification.h5'),\n",
    "        monitor = 'val_loss',\n",
    "        mode = 'min',\n",
    "        verbose = 1,\n",
    "        save_best_only = True\n",
    "    )\n",
    "]"
   ]
  },
  {
   "cell_type": "code",
   "execution_count": 20,
   "metadata": {
    "colab": {
     "base_uri": "https://localhost:8080/"
    },
    "id": "3XWk842QNk-9",
    "outputId": "08b1f468-8fc3-42b8-a568-cb28b715e425"
   },
   "outputs": [
    {
     "name": "stdout",
     "output_type": "stream",
     "text": [
      "Downloading data from https://github.com/Callidior/keras-applications/releases/download/efficientnet/efficientnet-b0_weights_tf_dim_ordering_tf_kernels_autoaugment_notop.h5\n",
      "16809984/16804768 [==============================] - 0s 0us/step\n",
      "16818176/16804768 [==============================] - 0s 0us/step\n",
      "Model: \"sequential\"\n",
      "_________________________________________________________________\n",
      " Layer (type)                Output Shape              Param #   \n",
      "=================================================================\n",
      " efficientnet-b0 (Functional  (None, 1280)             4049564   \n",
      " )                                                               \n",
      "                                                                 \n",
      " dense (Dense)               (None, 300)               384300    \n",
      "                                                                 \n",
      " dropout (Dropout)           (None, 300)               0         \n",
      "                                                                 \n",
      " dense_1 (Dense)             (None, 300)               90300     \n",
      "                                                                 \n",
      " dropout_1 (Dropout)         (None, 300)               0         \n",
      "                                                                 \n",
      " dense_2 (Dense)             (None, 7)                 2107      \n",
      "                                                                 \n",
      "=================================================================\n",
      "Total params: 4,526,271\n",
      "Trainable params: 4,484,255\n",
      "Non-trainable params: 42,016\n",
      "_________________________________________________________________\n"
     ]
    }
   ],
   "source": [
    "# efficientnet transfer learning\n",
    "from efficientnet.tfkeras import EfficientNetB0\n",
    "efficient_net = EfficientNetB0(\n",
    "    weights = 'imagenet',\n",
    "    input_shape = (input_size, input_size, 3),\n",
    "    include_top = False,\n",
    "    pooling = 'max'\n",
    ")\n",
    "\n",
    "classifier = Sequential()\n",
    "classifier.add(efficient_net)\n",
    "classifier.add(Dense(units = 300, activation = 'relu', kernel_regularizer=regularizers.l1_l2(l1=0.001, l2=0.001)))\n",
    "classifier.add(Dropout(0.2))\n",
    "classifier.add(Dense(units = 300, activation = 'relu', kernel_regularizer=regularizers.l1_l2(l1=0.001, l2=0.001)))\n",
    "classifier.add(Dropout(0.2))\n",
    "classifier.add(Dense(units = 7, activation = 'softmax'))\n",
    "classifier.summary()\n",
    "classifier.compile(optimizer = optimizers.Adam(learning_rate=0.001), loss = 'categorical_crossentropy', metrics = ['accuracy'])"
   ]
  },
  {
   "cell_type": "code",
   "execution_count": 21,
   "metadata": {
    "colab": {
     "base_uri": "https://localhost:8080/"
    },
    "id": "qkzVr81rvP3j",
    "outputId": "8e5d948f-ba63-4c4f-810e-02541b0a6408"
   },
   "outputs": [
    {
     "name": "stdout",
     "output_type": "stream",
     "text": [
      "Epoch 1/10\n",
      "1532/1532 [==============================] - ETA: 0s - loss: 2.0024 - accuracy: 0.8383\n",
      "Epoch 00001: val_loss improved from inf to 0.43466, saving model to /content/gdrive/MyDrive/dl_models/checkpoint/best_model_EB0_7_classification.h5\n"
     ]
    },
    {
     "name": "stderr",
     "output_type": "stream",
     "text": [
      "/usr/local/lib/python3.7/dist-packages/keras/engine/functional.py:1410: CustomMaskWarning: Custom mask layers require a config and must override get_config. When loading, the custom mask layer must be passed to the custom_objects argument.\n",
      "  layer_config = serialize_layer_fn(layer)\n"
     ]
    },
    {
     "name": "stdout",
     "output_type": "stream",
     "text": [
      "\b\b\b\b\b\b\b\b\b\b\b\b\b\b\b\b\b\b\b\b\b\b\b\b\b\b\b\b\b\b\b\b\b\b\b\b\b\b\b\b\b\b\b\b\b\b\b\b\b\b\b\b\b\b\b\b\b\b\b\b\b\b\b\b\b\b\b\b\b\b\b\b\b\b\b\b\b\b\b\b\b\b\b\b\b\b\r",
      "1532/1532 [==============================] - 700s 441ms/step - loss: 2.0024 - accuracy: 0.8383 - val_loss: 0.4347 - val_accuracy: 0.8939\n",
      "Epoch 2/10\n",
      "1532/1532 [==============================] - ETA: 0s - loss: 0.3917 - accuracy: 0.9078\n",
      "Epoch 00002: val_loss improved from 0.43466 to 0.38859, saving model to /content/gdrive/MyDrive/dl_models/checkpoint/best_model_EB0_7_classification.h5\n",
      "1532/1532 [==============================] - 653s 426ms/step - loss: 0.3917 - accuracy: 0.9078 - val_loss: 0.3886 - val_accuracy: 0.8988\n",
      "Epoch 3/10\n",
      "1532/1532 [==============================] - ETA: 0s - loss: 0.3498 - accuracy: 0.9189\n",
      "Epoch 00003: val_loss improved from 0.38859 to 0.38464, saving model to /content/gdrive/MyDrive/dl_models/checkpoint/best_model_EB0_7_classification.h5\n",
      "1532/1532 [==============================] - 638s 417ms/step - loss: 0.3498 - accuracy: 0.9189 - val_loss: 0.3846 - val_accuracy: 0.9040\n",
      "Epoch 4/10\n",
      "1532/1532 [==============================] - ETA: 0s - loss: 0.3167 - accuracy: 0.9270\n",
      "Epoch 00004: val_loss improved from 0.38464 to 0.36009, saving model to /content/gdrive/MyDrive/dl_models/checkpoint/best_model_EB0_7_classification.h5\n",
      "1532/1532 [==============================] - 639s 417ms/step - loss: 0.3167 - accuracy: 0.9270 - val_loss: 0.3601 - val_accuracy: 0.9116\n",
      "Epoch 5/10\n",
      "1532/1532 [==============================] - ETA: 0s - loss: 0.2911 - accuracy: 0.9317\n",
      "Epoch 00005: val_loss improved from 0.36009 to 0.32427, saving model to /content/gdrive/MyDrive/dl_models/checkpoint/best_model_EB0_7_classification.h5\n",
      "1532/1532 [==============================] - 636s 415ms/step - loss: 0.2911 - accuracy: 0.9317 - val_loss: 0.3243 - val_accuracy: 0.9223\n",
      "Epoch 6/10\n",
      "1532/1532 [==============================] - ETA: 0s - loss: 0.2928 - accuracy: 0.9343\n",
      "Epoch 00006: val_loss improved from 0.32427 to 0.26394, saving model to /content/gdrive/MyDrive/dl_models/checkpoint/best_model_EB0_7_classification.h5\n",
      "1532/1532 [==============================] - 638s 416ms/step - loss: 0.2928 - accuracy: 0.9343 - val_loss: 0.2639 - val_accuracy: 0.9333\n",
      "Epoch 7/10\n",
      "1532/1532 [==============================] - ETA: 0s - loss: 0.2651 - accuracy: 0.9386\n",
      "Epoch 00007: val_loss did not improve from 0.26394\n",
      "1532/1532 [==============================] - 634s 414ms/step - loss: 0.2651 - accuracy: 0.9386 - val_loss: 0.5219 - val_accuracy: 0.8706\n",
      "Epoch 8/10\n",
      "1532/1532 [==============================] - ETA: 0s - loss: 0.2560 - accuracy: 0.9402\n",
      "Epoch 00008: val_loss did not improve from 0.26394\n",
      "1532/1532 [==============================] - 636s 415ms/step - loss: 0.2560 - accuracy: 0.9402 - val_loss: 0.2642 - val_accuracy: 0.9388\n",
      "Epoch 9/10\n",
      "1532/1532 [==============================] - ETA: 0s - loss: 0.2493 - accuracy: 0.9426\n",
      "Epoch 00009: val_loss did not improve from 0.26394\n",
      "1532/1532 [==============================] - 635s 414ms/step - loss: 0.2493 - accuracy: 0.9426 - val_loss: 0.2805 - val_accuracy: 0.9308\n",
      "Epoch 10/10\n",
      "1532/1532 [==============================] - ETA: 0s - loss: 0.2417 - accuracy: 0.9449\n",
      "Epoch 00010: val_loss did not improve from 0.26394\n",
      "1532/1532 [==============================] - 634s 414ms/step - loss: 0.2417 - accuracy: 0.9449 - val_loss: 0.2951 - val_accuracy: 0.9236\n"
     ]
    }
   ],
   "source": [
    "# 1693 or 3386\n",
    "history = classifier.fit(\n",
    "                        training_set,\n",
    "                        steps_per_epoch=len(training_set),\n",
    "                        epochs=10,\n",
    "                        verbose=1,\n",
    "                        validation_data=validation_set,\n",
    "                        callbacks = custom_callbacks\n",
    "                         )"
   ]
  },
  {
   "cell_type": "code",
   "execution_count": null,
   "metadata": {
    "colab": {
     "base_uri": "https://localhost:8080/"
    },
    "id": "NUuSruwQHd1_",
    "outputId": "f7dd649e-f872-4a09-8383-7d831901b9c6"
   },
   "outputs": [
    {
     "name": "stderr",
     "output_type": "stream",
     "text": [
      "/usr/local/lib/python3.7/dist-packages/keras/engine/functional.py:1410: CustomMaskWarning: Custom mask layers require a config and must override get_config. When loading, the custom mask layer must be passed to the custom_objects argument.\n",
      "  layer_config = serialize_layer_fn(layer)\n"
     ]
    }
   ],
   "source": [
    "save_path = '/content/gdrive/MyDrive/dl_models/'\n",
    "model_name = 'categorical_fake_image_classifierEfB80.h5'\n",
    "classifier.save(save_path + model_name)"
   ]
  },
  {
   "cell_type": "code",
   "execution_count": null,
   "metadata": {
    "colab": {
     "base_uri": "https://localhost:8080/"
    },
    "id": "MNJpauVDkq-v",
    "outputId": "0eff0976-ee6e-470a-949b-ffa24b59436c"
   },
   "outputs": [
    {
     "name": "stdout",
     "output_type": "stream",
     "text": [
      "fake_image_classifierEfB80.h5\n"
     ]
    }
   ],
   "source": [
    "!ls  /content/gdrive/MyDrive/dl_models"
   ]
  },
  {
   "cell_type": "code",
   "execution_count": 26,
   "metadata": {
    "id": "5wyIyooFHd2A"
   },
   "outputs": [],
   "source": [
    "from keras.models import load_model\n",
    "best_model = '/content/gdrive/MyDrive/dl_models/checkpoint/best_model_EB0_7_classification.h5'\n",
    "model = load_model(best_model)\n",
    "# classifier = model"
   ]
  },
  {
   "cell_type": "markdown",
   "metadata": {
    "id": "zoyK_-XvMIX_"
   },
   "source": [
    "**Prediction section**"
   ]
  },
  {
   "cell_type": "code",
   "execution_count": 27,
   "metadata": {
    "id": "KwpGy79PHd2A"
   },
   "outputs": [],
   "source": [
    "def predict_images(folder, image_name):\n",
    "    #Making Single new prediction\n",
    "    import numpy as np\n",
    "    #from keras.preprocessing.image import image\n",
    "    import keras.preprocessing.image as image\n",
    "    test_image = image.load_img(f'./fakeimage_detection_3/test/{folder}/{image_name}', target_size = (input_size, input_size))\n",
    "    test_image = image.img_to_array(test_image)\n",
    "    test_image = test_image /255.\n",
    "    #use this function to change the image from 2dimension(64, 64) to 3dimension(64, 64, 3)\n",
    "    test_image = np.expand_dims(test_image, axis=0)\n",
    "    #add one more dimension before predicting because the predict method expects a batch\n",
    "    images = np.vstack([test_image])\n",
    "    result = model.predict(images, batch_size=10)\n",
    "\n",
    "    # result = model.predict(test_image)\n",
    "\n",
    "    #training_set.class_indices\n",
    "    # print(result[0][0], result[0][1])\n",
    "    # print(np.argmax(result))\n",
    "    prediction = ''\n",
    "    # if np.argmax(result) == 0:\n",
    "    #   prediction = 'fake'\n",
    "    # elif np.argmax(result) == 1:\n",
    "    #   prediction = 'real'\n",
    "    if np.argmax(result) == 0:\n",
    "        prediction = 'celeba'\n",
    "        # print('fake')\n",
    "    elif np.argmax(result) == 1:\n",
    "        # print('real')\n",
    "        prediction = 'celeba_hq'\n",
    "    elif np.argmax(result) == 2:\n",
    "        prediction = 'deepfakes'\n",
    "    elif np.argmax(result) == 3:\n",
    "        prediction = 'face2face'\n",
    "    elif np.argmax(result) == 4:\n",
    "        prediction = 'faceswap'\n",
    "    elif np.argmax(result) == 5:\n",
    "        prediction = 'neuraltextures'\n",
    "    elif np.argmax(result) == 6:\n",
    "        prediction = 'youtube'\n",
    "#     print(image_name, prediction)\n",
    "    # print(prediction)\n",
    "    return prediction"
   ]
  },
  {
   "cell_type": "code",
   "execution_count": 28,
   "metadata": {
    "id": "mogCF2HeHd2B"
   },
   "outputs": [],
   "source": [
    "\n",
    "import os\n",
    "celeba_images = os.listdir(\"./fakeimage_detection_3/test/celeba\")\n",
    "celeba_hq_images = os.listdir(\"./fakeimage_detection_3/test/celeba_hq\")\n",
    "youtube_images = os.listdir(\"./fakeimage_detection_3/test/youtube\")\n",
    "deepfakes_images = os.listdir(\"./fakeimage_detection_3/test/deepfakes\")\n",
    "face2face_images = os.listdir(\"./fakeimage_detection_3/test/face2face\")\n",
    "faceswap_images = os.listdir(\"./fakeimage_detection_3/test/faceswap\")\n",
    "neuraltextures_images = os.listdir(\"./fakeimage_detection_3/test/neuraltextures\")\n",
    "res_celeba = []\n",
    "res_celeba_hq = []\n",
    "res_youtube = []\n",
    "res_deepfakes = []\n",
    "res_face2face = []\n",
    "res_faceswap = []\n",
    "res_neuraltextures = []\n",
    "# predict_images('celeb', man_images[0])\n",
    "for image_name in celeba_images:\n",
    "    # predict_images('real', image_name)\n",
    "    res_celeba.append(predict_images('celeba', image_name))\n",
    "for image_name in celeba_hq_images:\n",
    "    res_celeba_hq.append(predict_images('celeba_hq', image_name))\n",
    "for image_name in youtube_images:\n",
    "    res_youtube.append(predict_images('youtube', image_name))\n",
    "for image_name in deepfakes_images:\n",
    "    res_deepfakes.append(predict_images('deepfakes', image_name))\n",
    "for image_name in face2face_images:\n",
    "    res_face2face.append(predict_images('face2face', image_name))\n",
    "for image_name in faceswap_images:\n",
    "    res_faceswap.append(predict_images('faceswap', image_name))\n",
    "for image_name in neuraltextures_images:\n",
    "    res_neuraltextures.append(predict_images('neuraltextures', image_name))"
   ]
  },
  {
   "cell_type": "code",
   "execution_count": 31,
   "metadata": {
    "colab": {
     "base_uri": "https://localhost:8080/"
    },
    "id": "kAT_cuWdHd2B",
    "outputId": "b482edea-c4bb-409e-f214-ea3d5d0b89ee"
   },
   "outputs": [
    {
     "data": {
      "text/plain": [
       "(Counter({'celeba': 1993, 'celeba_hq': 6, 'youtube': 1}),\n",
       " Counter({'celeba_hq': 2000}),\n",
       " Counter({'celeba_hq': 1,\n",
       "          'deepfakes': 23,\n",
       "          'face2face': 60,\n",
       "          'faceswap': 54,\n",
       "          'neuraltextures': 29,\n",
       "          'youtube': 1833}),\n",
       " Counter({'deepfakes': 1882,\n",
       "          'face2face': 24,\n",
       "          'neuraltextures': 2,\n",
       "          'youtube': 92}),\n",
       " Counter({'deepfakes': 2,\n",
       "          'face2face': 1904,\n",
       "          'neuraltextures': 4,\n",
       "          'youtube': 89}),\n",
       " Counter({'deepfakes': 1, 'face2face': 19, 'faceswap': 1890, 'youtube': 90}),\n",
       " Counter({'deepfakes': 11,\n",
       "          'face2face': 50,\n",
       "          'faceswap': 2,\n",
       "          'neuraltextures': 1562,\n",
       "          'youtube': 375}))"
      ]
     },
     "execution_count": 31,
     "metadata": {},
     "output_type": "execute_result"
    }
   ],
   "source": [
    "from collections import Counter\n",
    "results = (Counter(res_celeba), Counter(res_celeba_hq), Counter(res_youtube), Counter(res_deepfakes), Counter(res_face2face), Counter(res_faceswap), Counter(res_neuraltextures))\n",
    "results"
   ]
  },
  {
   "cell_type": "code",
   "execution_count": 22,
   "metadata": {
    "colab": {
     "base_uri": "https://localhost:8080/",
     "height": 545
    },
    "id": "2skuorN8dELE",
    "outputId": "2496418f-75e7-49c9-ae5d-00d73695e9e6"
   },
   "outputs": [
    {
     "data": {
      "image/png": "[encoded data removed]",
      "text/plain": [
       "<Figure size 432x288 with 1 Axes>"
      ]
     },
     "metadata": {
      "needs_background": "light"
     },
     "output_type": "display_data"
    },
    {
     "data": {
      "image/png": "[encoded data removed]",
      "text/plain": [
       "<Figure size 432x288 with 1 Axes>"
      ]
     },
     "metadata": {
      "needs_background": "light"
     },
     "output_type": "display_data"
    }
   ],
   "source": [
    "import matplotlib.pyplot as plt\n",
    "\n",
    "acc = history.history['accuracy']\n",
    "val_acc = history.history['val_accuracy']\n",
    "loss = history.history['loss']\n",
    "val_loss = history.history['val_loss']\n",
    "epochs = range(1, len(acc) + 1)\n",
    "plt.plot(epochs, acc, 'bo', label='Training acc')\n",
    "plt.plot(epochs, val_acc, 'b', label='Validation acc')\n",
    "plt.title('Training and validation accuracy')\n",
    "plt.legend()\n",
    "plt.figure()\n",
    "plt.plot(epochs, loss, 'bo', label='Training loss')\n",
    "plt.plot(epochs, val_loss, 'b', label='Validation loss')\n",
    "plt.title('Training and validation loss')\n",
    "plt.legend()\n",
    "plt.show()"
   ]
  },
  {
   "cell_type": "code",
   "execution_count": null,
   "metadata": {
    "id": "MDiqZ3DE3G12"
   },
   "outputs": [],
   "source": []
  }
 ],
 "metadata": {
  "accelerator": "GPU",
  "colab": {
   "collapsed_sections": [],
   "machine_shape": "hm",
   "name": "7classification_EfficientNetB0_Binary fake_image_amtenet_project.ipynb",
   "provenance": []
  },
  "kernelspec": {
   "display_name": "Python 3 (ipykernel)",
   "language": "python",
   "name": "python3"
  },
  "language_info": {
   "codemirror_mode": {
    "name": "ipython",
    "version": 3
   },
   "file_extension": ".py",
   "mimetype": "text/x-python",
   "name": "python",
   "nbconvert_exporter": "python",
   "pygments_lexer": "ipython3",
   "version": "3.9.0"
  }
 },
 "nbformat": 4,
 "nbformat_minor": 1
}

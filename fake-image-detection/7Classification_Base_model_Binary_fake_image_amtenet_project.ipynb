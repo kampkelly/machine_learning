{
 "cells": [
  {
   "cell_type": "code",
   "execution_count": 1,
   "metadata": {
    "colab": {
     "base_uri": "https://localhost:8080/"
    },
    "id": "rF8rBbiGEQ_y",
    "outputId": "f82f04b2-9fcc-4c4d-b61c-14f809ba04b3"
   },
   "outputs": [
    {
     "name": "stdout",
     "output_type": "stream",
     "text": [
      "Mon Nov 22 09:26:33 2021       \n",
      "+-----------------------------------------------------------------------------+\n",
      "| NVIDIA-SMI 495.44       Driver Version: 460.32.03    CUDA Version: 11.2     |\n",
      "|-------------------------------+----------------------+----------------------+\n",
      "| GPU  Name        Persistence-M| Bus-Id        Disp.A | Volatile Uncorr. ECC |\n",
      "| Fan  Temp  Perf  Pwr:Usage/Cap|         Memory-Usage | GPU-Util  Compute M. |\n",
      "|                               |                      |               MIG M. |\n",
      "|===============================+======================+======================|\n",
      "|   0  Tesla P100-PCIE...  Off  | 00000000:00:04.0 Off |                    0 |\n",
      "| N/A   35C    P0    26W / 250W |      0MiB / 16280MiB |      0%      Default |\n",
      "|                               |                      |                  N/A |\n",
      "+-------------------------------+----------------------+----------------------+\n",
      "                                                                               \n",
      "+-----------------------------------------------------------------------------+\n",
      "| Processes:                                                                  |\n",
      "|  GPU   GI   CI        PID   Type   Process name                  GPU Memory |\n",
      "|        ID   ID                                                   Usage      |\n",
      "|=============================================================================|\n",
      "|  No running processes found                                                 |\n",
      "+-----------------------------------------------------------------------------+\n"
     ]
    }
   ],
   "source": [
    "gpu_info = !nvidia-smi\n",
    "gpu_info = '\\n'.join(gpu_info)\n",
    "if gpu_info.find('failed') >= 0:\n",
    "  print('Not connected to a GPU')\n",
    "else:\n",
    "  print(gpu_info)"
   ]
  },
  {
   "cell_type": "code",
   "execution_count": 2,
   "metadata": {
    "colab": {
     "base_uri": "https://localhost:8080/"
    },
    "id": "XH7Nq2GBETMy",
    "outputId": "79fe5925-5131-4d1d-b351-3c3b57ded0f6"
   },
   "outputs": [
    {
     "name": "stdout",
     "output_type": "stream",
     "text": [
      "Your runtime has 13.6 gigabytes of available RAM\n",
      "\n",
      "Not using a high-RAM runtime\n"
     ]
    }
   ],
   "source": [
    "from psutil import virtual_memory\n",
    "ram_gb = virtual_memory().total / 1e9\n",
    "print('Your runtime has {:.1f} gigabytes of available RAM\\n'.format(ram_gb))\n",
    "\n",
    "if ram_gb < 20:\n",
    "  print('Not using a high-RAM runtime')\n",
    "else:\n",
    "  print('You are using a high-RAM runtime!')"
   ]
  },
  {
   "cell_type": "code",
   "execution_count": 3,
   "metadata": {
    "colab": {
     "base_uri": "https://localhost:8080/"
    },
    "id": "y2Aee6DOVQiP",
    "outputId": "cd524cec-9554-49c4-ea72-3ea1aa28d84c"
   },
   "outputs": [
    {
     "name": "stdout",
     "output_type": "stream",
     "text": [
      "Mounted at /content/gdrive\n"
     ]
    }
   ],
   "source": [
    "from google.colab import drive\n",
    "drive.mount(\"/content/gdrive\")\n"
   ]
  },
  {
   "cell_type": "code",
   "execution_count": 4,
   "metadata": {
    "cellView": "code",
    "colab": {
     "base_uri": "https://localhost:8080/"
    },
    "id": "SPxwTlmuHd1u",
    "outputId": "0f615868-7537-4b7a-cfe8-e2bd32cc24c3"
   },
   "outputs": [
    {
     "name": "stdout",
     "output_type": "stream",
     "text": [
      "['fakeimage_detection_2.zip', 'deep_fake_detec1', 'deep_fake_detec2', 'deep_fake_detec3', 'fakeimage_detection_3.zip', 'fake_image_detection_4.zip']\n"
     ]
    }
   ],
   "source": [
    "import numpy as np # linear algebra\n",
    "import pandas as pd # data processing, CSV file I/O (e.g. pd.read_csv)\n",
    "\n",
    "import os\n",
    "print(os.listdir(\"./gdrive/MyDrive/ML DL datasets\"))"
   ]
  },
  {
   "cell_type": "code",
   "execution_count": null,
   "metadata": {},
   "outputs": [],
   "source": [
    "# unzp archive\n",
    "!unzip \"./gdrive/MyDrive/ML DL datasets/fake_image_detection_4.zip\""
   ]
  },
  {
   "cell_type": "code",
   "execution_count": 6,
   "metadata": {
    "colab": {
     "base_uri": "https://localhost:8080/"
    },
    "id": "9s2MVkKdHd12",
    "outputId": "802dccec-84c0-49f2-ab25-1a02e7afa274"
   },
   "outputs": [
    {
     "name": "stdout",
     "output_type": "stream",
     "text": [
      "fakeimage_detection_3  gdrive  __MACOSX  sample_data\n"
     ]
    }
   ],
   "source": [
    "training_path = './fakeimage_detection_3/train'\n",
    "test_path = './fakeimage_detection_3/test'\n",
    "validation_path = './fakeimage_detection_3/validation'\n",
    "!ls"
   ]
  },
  {
   "cell_type": "code",
   "execution_count": 7,
   "metadata": {
    "colab": {
     "base_uri": "https://localhost:8080/"
    },
    "id": "1k_vlo_5Hd13",
    "outputId": "6ba948c9-b867-4b7e-f3b4-29fb347095a1"
   },
   "outputs": [
    {
     "name": "stdout",
     "output_type": "stream",
     "text": [
      "2.7.0\n"
     ]
    }
   ],
   "source": [
    "import math\n",
    "import tensorflow as tf\n",
    "from tensorflow.keras.models import Sequential\n",
    "from tensorflow.keras.layers import SeparableConv2D as Conv2D\n",
    "from tensorflow.keras.layers import MaxPooling2D\n",
    "from tensorflow.keras.layers import Flatten\n",
    "from tensorflow.keras.layers import Dense, Dropout\n",
    "from tensorflow.keras import optimizers\n",
    "from tensorflow.keras import regularizers\n",
    "from tensorflow.keras import layers\n",
    "from tensorflow.keras import activations\n",
    "from tensorflow.keras.callbacks import EarlyStopping, ModelCheckpoint\n",
    "\n",
    "print(tf. __version__) "
   ]
  },
  {
   "cell_type": "code",
   "execution_count": 8,
   "metadata": {
    "colab": {
     "base_uri": "https://localhost:8080/"
    },
    "id": "3TRE3TVbHd14",
    "outputId": "61df309a-e35e-421c-c887-35af2449ae3a"
   },
   "outputs": [
    {
     "name": "stdout",
     "output_type": "stream",
     "text": [
      "Num GPUs Available:  1\n"
     ]
    }
   ],
   "source": [
    "print(\"Num GPUs Available: \", len(tf.config.list_physical_devices('GPU')))"
   ]
  },
  {
   "cell_type": "code",
   "execution_count": 9,
   "metadata": {
    "id": "HMC-mvazHd18"
   },
   "outputs": [],
   "source": [
    "# import keras\n",
    "from tensorflow import keras\n",
    "from tensorflow.keras.preprocessing.image import ImageDataGenerator\n",
    "\n",
    "train_datagen = ImageDataGenerator(rescale = 1./255,\n",
    "                                   shear_range = 0.2,\n",
    "                                   zoom_range = 0.2,\n",
    "                                  #  rotation_range = 10,\n",
    "                                  #  width_shift_range = 0.1,\n",
    "                                  #  height_shift_range = 0.1,\n",
    "                                   horizontal_flip = True)\n",
    "valid_datagen = ImageDataGenerator(rescale = 1./255)"
   ]
  },
  {
   "cell_type": "code",
   "execution_count": 10,
   "metadata": {
    "colab": {
     "base_uri": "https://localhost:8080/"
    },
    "id": "tFOAUxVZHd18",
    "outputId": "a8d14dc9-d39c-449b-b752-6cc77718a862"
   },
   "outputs": [
    {
     "name": "stdout",
     "output_type": "stream",
     "text": [
      "Found 97997 images belonging to 7 classes.\n"
     ]
    }
   ],
   "source": [
    "batch_size = 64\n",
    "input_size=128\n",
    "training_set = train_datagen.flow_from_directory(training_path,\n",
    "                                                 target_size = (input_size, input_size),\n",
    "                                                 batch_size = batch_size,\n",
    "                                                 class_mode = 'categorical')"
   ]
  },
  {
   "cell_type": "code",
   "execution_count": 11,
   "metadata": {
    "colab": {
     "base_uri": "https://localhost:8080/"
    },
    "id": "T4CWze7XHd19",
    "outputId": "299a5053-bd9e-4db7-a069-398b74dbbee9"
   },
   "outputs": [
    {
     "name": "stdout",
     "output_type": "stream",
     "text": [
      "Found 5248 images belonging to 7 classes.\n"
     ]
    }
   ],
   "source": [
    "validation_set = valid_datagen.flow_from_directory(validation_path,\n",
    "                                                 target_size = (input_size, input_size),\n",
    "                                                 batch_size = batch_size,\n",
    "                                                 class_mode = 'categorical')"
   ]
  },
  {
   "cell_type": "code",
   "execution_count": 12,
   "metadata": {
    "id": "o2JAAs5YN89W"
   },
   "outputs": [],
   "source": [
    "# stop_early = tf.keras.callbacks.EarlyStopping(monitor='val_accuracy', patience=2, verbose=2, baseline=0.801, min_delta=0.001)\n",
    "checkpoint_filepath = '/content/gdrive/MyDrive/dl_models/checkpoint'\n",
    "custom_callbacks = [\n",
    "    EarlyStopping(\n",
    "        monitor = 'val_loss',\n",
    "        mode = 'min',\n",
    "        patience = 5,\n",
    "        verbose = 1\n",
    "    ),\n",
    "    ModelCheckpoint(\n",
    "        filepath = os.path.join(checkpoint_filepath, 'best_base_model_7classification.h5'),\n",
    "        monitor = 'val_loss',\n",
    "        mode = 'min',\n",
    "        verbose = 1,\n",
    "        save_best_only = True\n",
    "    )\n",
    "]"
   ]
  },
  {
   "cell_type": "code",
   "execution_count": 13,
   "metadata": {
    "colab": {
     "base_uri": "https://localhost:8080/"
    },
    "id": "SZyM4g4cgBjc",
    "outputId": "179c7f18-c121-4a0a-df8f-9d8c825f3aff"
   },
   "outputs": [
    {
     "name": "stdout",
     "output_type": "stream",
     "text": [
      "Model: \"sequential\"\n",
      "_________________________________________________________________\n",
      " Layer (type)                Output Shape              Param #   \n",
      "=================================================================\n",
      " separable_conv2d (Separable  (None, 126, 126, 3)      39        \n",
      " Conv2D)                                                         \n",
      "                                                                 \n",
      " separable_conv2d_1 (Separab  (None, 124, 124, 24)     123       \n",
      " leConv2D)                                                       \n",
      "                                                                 \n",
      " separable_conv2d_2 (Separab  (None, 122, 122, 64)     1816      \n",
      " leConv2D)                                                       \n",
      "                                                                 \n",
      "=================================================================\n",
      "Total params: 1,978\n",
      "Trainable params: 1,978\n",
      "Non-trainable params: 0\n",
      "_________________________________________________________________\n"
     ]
    }
   ],
   "source": [
    "# # Baseline model\n",
    "classifier = Sequential()\n",
    "classifier.add(Conv2D(3, (3, 3), input_shape = (input_size, input_size, 3)))\n",
    "classifier.add(Conv2D(24, (3, 3)))\n",
    "classifier.add(Conv2D(64, (3, 3)))\n",
    "\n",
    "classifier.summary()\n",
    "classifier.add(Flatten())\n",
    "\n",
    "classifier.add(Dense(units = 300))\n",
    "classifier.add(Dense(units = 128))\n",
    "classifier.add(Dense(units = 7, activation = 'softmax'))\n",
    "classifier.compile(optimizer = optimizers.Adam(learning_rate=0.001), loss = 'categorical_crossentropy', metrics = ['accuracy'])"
   ]
  },
  {
   "cell_type": "code",
   "execution_count": 14,
   "metadata": {
    "colab": {
     "base_uri": "https://localhost:8080/"
    },
    "id": "qkzVr81rvP3j",
    "outputId": "958d9798-9d51-457a-868f-dcf32b4955bf"
   },
   "outputs": [
    {
     "name": "stdout",
     "output_type": "stream",
     "text": [
      "Epoch 1/10\n",
      "1532/1532 [==============================] - ETA: 0s - loss: 1.5703 - accuracy: 0.4459\n",
      "Epoch 00001: val_loss improved from inf to 1.15200, saving model to /content/gdrive/MyDrive/dl_models/checkpoint/best_base_model_7classification.h5\n",
      "1532/1532 [==============================] - 768s 491ms/step - loss: 1.5703 - accuracy: 0.4459 - val_loss: 1.1520 - val_accuracy: 0.4644\n",
      "Epoch 2/10\n",
      "1532/1532 [==============================] - ETA: 0s - loss: 1.1604 - accuracy: 0.4648\n",
      "Epoch 00002: val_loss improved from 1.15200 to 1.14482, saving model to /content/gdrive/MyDrive/dl_models/checkpoint/best_base_model_7classification.h5\n",
      "1532/1532 [==============================] - 802s 522ms/step - loss: 1.1604 - accuracy: 0.4648 - val_loss: 1.1448 - val_accuracy: 0.4703\n",
      "Epoch 3/10\n",
      "1532/1532 [==============================] - ETA: 0s - loss: 1.1669 - accuracy: 0.4634\n",
      "Epoch 00003: val_loss did not improve from 1.14482\n",
      "1532/1532 [==============================] - 767s 499ms/step - loss: 1.1669 - accuracy: 0.4634 - val_loss: 1.1569 - val_accuracy: 0.4697\n",
      "Epoch 4/10\n",
      "1532/1532 [==============================] - ETA: 0s - loss: 1.1670 - accuracy: 0.4654\n",
      "Epoch 00004: val_loss improved from 1.14482 to 1.14226, saving model to /content/gdrive/MyDrive/dl_models/checkpoint/best_base_model_7classification.h5\n",
      "1532/1532 [==============================] - 733s 478ms/step - loss: 1.1670 - accuracy: 0.4654 - val_loss: 1.1423 - val_accuracy: 0.4695\n",
      "Epoch 5/10\n",
      "1532/1532 [==============================] - ETA: 0s - loss: 1.1566 - accuracy: 0.4705\n",
      "Epoch 00005: val_loss improved from 1.14226 to 1.14050, saving model to /content/gdrive/MyDrive/dl_models/checkpoint/best_base_model_7classification.h5\n",
      "1532/1532 [==============================] - 817s 533ms/step - loss: 1.1566 - accuracy: 0.4705 - val_loss: 1.1405 - val_accuracy: 0.4869\n",
      "Epoch 6/10\n",
      "1532/1532 [==============================] - ETA: 0s - loss: 1.1502 - accuracy: 0.4734\n",
      "Epoch 00006: val_loss did not improve from 1.14050\n",
      "1532/1532 [==============================] - 777s 507ms/step - loss: 1.1502 - accuracy: 0.4734 - val_loss: 1.1534 - val_accuracy: 0.4686\n",
      "Epoch 7/10\n",
      "1532/1532 [==============================] - ETA: 0s - loss: 1.1527 - accuracy: 0.4742\n",
      "Epoch 00007: val_loss did not improve from 1.14050\n",
      "1532/1532 [==============================] - 710s 463ms/step - loss: 1.1527 - accuracy: 0.4742 - val_loss: 1.1833 - val_accuracy: 0.4627\n",
      "Epoch 8/10\n",
      "1532/1532 [==============================] - ETA: 0s - loss: 1.1360 - accuracy: 0.4824\n",
      "Epoch 00008: val_loss improved from 1.14050 to 1.13879, saving model to /content/gdrive/MyDrive/dl_models/checkpoint/best_base_model_7classification.h5\n",
      "1532/1532 [==============================] - 741s 484ms/step - loss: 1.1360 - accuracy: 0.4824 - val_loss: 1.1388 - val_accuracy: 0.4790\n",
      "Epoch 9/10\n",
      "1532/1532 [==============================] - ETA: 0s - loss: 1.1369 - accuracy: 0.4830\n",
      "Epoch 00009: val_loss improved from 1.13879 to 1.12149, saving model to /content/gdrive/MyDrive/dl_models/checkpoint/best_base_model_7classification.h5\n",
      "1532/1532 [==============================] - 807s 527ms/step - loss: 1.1369 - accuracy: 0.4830 - val_loss: 1.1215 - val_accuracy: 0.5017\n",
      "Epoch 10/10\n",
      "1532/1532 [==============================] - ETA: 0s - loss: 1.1338 - accuracy: 0.4847\n",
      "Epoch 00010: val_loss improved from 1.12149 to 1.12030, saving model to /content/gdrive/MyDrive/dl_models/checkpoint/best_base_model_7classification.h5\n",
      "1532/1532 [==============================] - 791s 516ms/step - loss: 1.1338 - accuracy: 0.4847 - val_loss: 1.1203 - val_accuracy: 0.4863\n"
     ]
    }
   ],
   "source": [
    "# 1693 or 3386\n",
    "history = classifier.fit(\n",
    "                        training_set,\n",
    "                        steps_per_epoch=len(training_set),\n",
    "                        epochs=10,\n",
    "                        verbose=1,\n",
    "                        validation_data=validation_set,\n",
    "                        callbacks = custom_callbacks\n",
    "                         )"
   ]
  },
  {
   "cell_type": "code",
   "execution_count": null,
   "metadata": {
    "colab": {
     "base_uri": "https://localhost:8080/"
    },
    "id": "NUuSruwQHd1_",
    "outputId": "f7dd649e-f872-4a09-8383-7d831901b9c6"
   },
   "outputs": [
    {
     "name": "stderr",
     "output_type": "stream",
     "text": [
      "/usr/local/lib/python3.7/dist-packages/keras/engine/functional.py:1410: CustomMaskWarning: Custom mask layers require a config and must override get_config. When loading, the custom mask layer must be passed to the custom_objects argument.\n",
      "  layer_config = serialize_layer_fn(layer)\n"
     ]
    }
   ],
   "source": [
    "save_path = '/content/gdrive/MyDrive/dl_models/'\n",
    "model_name = 'categorical_fake_image_classifierEfB80.h5'\n",
    "classifier.save(save_path + model_name)"
   ]
  },
  {
   "cell_type": "code",
   "execution_count": null,
   "metadata": {
    "colab": {
     "base_uri": "https://localhost:8080/"
    },
    "id": "MNJpauVDkq-v",
    "outputId": "0eff0976-ee6e-470a-949b-ffa24b59436c"
   },
   "outputs": [
    {
     "name": "stdout",
     "output_type": "stream",
     "text": [
      "fake_image_classifierEfB80.h5\n"
     ]
    }
   ],
   "source": [
    "!ls  /content/gdrive/MyDrive/dl_models"
   ]
  },
  {
   "cell_type": "code",
   "execution_count": 18,
   "metadata": {
    "id": "5wyIyooFHd2A"
   },
   "outputs": [],
   "source": [
    "from keras.models import load_model\n",
    "best_model = '/content/gdrive/MyDrive/dl_models/checkpoint/best_base_model_7classification.h5'\n",
    "model = load_model(best_model)"
   ]
  },
  {
   "cell_type": "markdown",
   "metadata": {
    "id": "zoyK_-XvMIX_"
   },
   "source": [
    "**Prediction section**"
   ]
  },
  {
   "cell_type": "code",
   "execution_count": 19,
   "metadata": {
    "id": "KwpGy79PHd2A"
   },
   "outputs": [],
   "source": [
    "def predict_images(folder, image_name):\n",
    "    #Making Single new prediction\n",
    "    import numpy as np\n",
    "    #from keras.preprocessing.image import image\n",
    "    import keras.preprocessing.image as image\n",
    "    test_image = image.load_img(f'./fakeimage_detection_3/test/{folder}/{image_name}', target_size = (input_size, input_size))\n",
    "    test_image = image.img_to_array(test_image)\n",
    "    test_image = test_image /255.\n",
    "    #use this function to change the image from 2dimension(64, 64) to 3dimension(64, 64, 3)\n",
    "    test_image = np.expand_dims(test_image, axis=0)\n",
    "    #add one more dimension before predicting because the predict method expects a batch\n",
    "    images = np.vstack([test_image])\n",
    "    result = model.predict(images, batch_size=10)\n",
    "\n",
    "    prediction = ''\n",
    "    if np.argmax(result) == 0:\n",
    "        prediction = 'celeba'\n",
    "        # print('fake')\n",
    "    elif np.argmax(result) == 1:\n",
    "        # print('real')\n",
    "        prediction = 'celeba_hq'\n",
    "    elif np.argmax(result) == 2:\n",
    "        prediction = 'deepfakes'\n",
    "    elif np.argmax(result) == 3:\n",
    "        prediction = 'face2face'\n",
    "    elif np.argmax(result) == 4:\n",
    "        prediction = 'faceswap'\n",
    "    elif np.argmax(result) == 5:\n",
    "        prediction = 'neuraltextures'\n",
    "    elif np.argmax(result) == 6:\n",
    "        prediction = 'youtube'\n",
    "#     print(image_name, prediction)\n",
    "    # print(prediction)\n",
    "    return prediction"
   ]
  },
  {
   "cell_type": "code",
   "execution_count": 20,
   "metadata": {
    "id": "mogCF2HeHd2B"
   },
   "outputs": [],
   "source": [
    "\n",
    "import os\n",
    "celeba_images = os.listdir(\"./fakeimage_detection_3/test/celeba\")\n",
    "celeba_hq_images = os.listdir(\"./fakeimage_detection_3/test/celeba_hq\")\n",
    "youtube_images = os.listdir(\"./fakeimage_detection_3/test/youtube\")\n",
    "deepfakes_images = os.listdir(\"./fakeimage_detection_3/test/deepfakes\")\n",
    "face2face_images = os.listdir(\"./fakeimage_detection_3/test/face2face\")\n",
    "faceswap_images = os.listdir(\"./fakeimage_detection_3/test/faceswap\")\n",
    "neuraltextures_images = os.listdir(\"./fakeimage_detection_3/test/neuraltextures\")\n",
    "res_celeba = []\n",
    "res_celeba_hq = []\n",
    "res_youtube = []\n",
    "res_deepfakes = []\n",
    "res_face2face = []\n",
    "res_faceswap = []\n",
    "res_neuraltextures = []\n",
    "for image_name in celeba_images:\n",
    "    res_celeba.append(predict_images('celeba', image_name))\n",
    "for image_name in celeba_hq_images:\n",
    "    res_celeba_hq.append(predict_images('celeba_hq', image_name))\n",
    "for image_name in youtube_images:\n",
    "    res_youtube.append(predict_images('youtube', image_name))\n",
    "for image_name in deepfakes_images:\n",
    "    res_deepfakes.append(predict_images('deepfakes', image_name))\n",
    "for image_name in face2face_images:\n",
    "    res_face2face.append(predict_images('face2face', image_name))\n",
    "for image_name in faceswap_images:\n",
    "    res_faceswap.append(predict_images('faceswap', image_name))\n",
    "for image_name in neuraltextures_images:\n",
    "    res_neuraltextures.append(predict_images('neuraltextures', image_name))"
   ]
  },
  {
   "cell_type": "code",
   "execution_count": 21,
   "metadata": {
    "colab": {
     "base_uri": "https://localhost:8080/"
    },
    "id": "kAT_cuWdHd2B",
    "outputId": "48b24641-d554-4f3c-ab87-8ed2b90e04cb"
   },
   "outputs": [
    {
     "data": {
      "text/plain": [
       "(Counter({'celeba': 1976,\n",
       "          'celeba_hq': 13,\n",
       "          'deepfakes': 5,\n",
       "          'face2face': 1,\n",
       "          'faceswap': 1,\n",
       "          'youtube': 4}),\n",
       " Counter({'celeba': 7,\n",
       "          'celeba_hq': 1988,\n",
       "          'deepfakes': 1,\n",
       "          'face2face': 3,\n",
       "          'neuraltextures': 1}),\n",
       " Counter({'celeba_hq': 3,\n",
       "          'deepfakes': 477,\n",
       "          'face2face': 160,\n",
       "          'faceswap': 730,\n",
       "          'neuraltextures': 17,\n",
       "          'youtube': 613}),\n",
       " Counter({'celeba_hq': 2,\n",
       "          'deepfakes': 1107,\n",
       "          'face2face': 127,\n",
       "          'faceswap': 376,\n",
       "          'neuraltextures': 11,\n",
       "          'youtube': 377}),\n",
       " Counter({'celeba_hq': 2,\n",
       "          'deepfakes': 553,\n",
       "          'face2face': 522,\n",
       "          'faceswap': 500,\n",
       "          'neuraltextures': 13,\n",
       "          'youtube': 409}),\n",
       " Counter({'celeba_hq': 3,\n",
       "          'deepfakes': 462,\n",
       "          'face2face': 144,\n",
       "          'faceswap': 808,\n",
       "          'neuraltextures': 16,\n",
       "          'youtube': 567}),\n",
       " Counter({'celeba_hq': 3,\n",
       "          'deepfakes': 490,\n",
       "          'face2face': 146,\n",
       "          'faceswap': 691,\n",
       "          'neuraltextures': 17,\n",
       "          'youtube': 653}))"
      ]
     },
     "execution_count": 21,
     "metadata": {},
     "output_type": "execute_result"
    }
   ],
   "source": [
    "from collections import Counter\n",
    "results = (Counter(res_celeba), Counter(res_celeba_hq), Counter(res_youtube), Counter(res_deepfakes), Counter(res_face2face), Counter(res_faceswap), Counter(res_neuraltextures))\n",
    "results"
   ]
  },
  {
   "cell_type": "code",
   "execution_count": 15,
   "metadata": {
    "colab": {
     "base_uri": "https://localhost:8080/",
     "height": 545
    },
    "id": "bfzBsfXWvLmt",
    "outputId": "b501e30b-1c27-4c1c-9dd4-92bc1d3e6262"
   },
   "outputs": [
    {
     "data": {
      "image/png": "[encoded data removed]",
      "text/plain": [
       "<Figure size 432x288 with 1 Axes>"
      ]
     },
     "metadata": {
      "needs_background": "light"
     },
     "output_type": "display_data"
    },
    {
     "data": {
      "image/png": "[encoded data removed]",
      "text/plain": [
       "<Figure size 432x288 with 1 Axes>"
      ]
     },
     "metadata": {
      "needs_background": "light"
     },
     "output_type": "display_data"
    }
   ],
   "source": [
    "import matplotlib.pyplot as plt\n",
    "\n",
    "acc = history.history['accuracy']\n",
    "val_acc = history.history['val_accuracy']\n",
    "loss = history.history['loss']\n",
    "val_loss = history.history['val_loss']\n",
    "epochs = range(1, len(acc) + 1)\n",
    "plt.plot(epochs, acc, 'bo', label='Training acc')\n",
    "plt.plot(epochs, val_acc, 'b', label='Validation acc')\n",
    "plt.title('Training and validation accuracy')\n",
    "plt.legend()\n",
    "plt.figure()\n",
    "plt.plot(epochs, loss, 'bo', label='Training loss')\n",
    "plt.plot(epochs, val_loss, 'b', label='Validation loss')\n",
    "plt.title('Training and validation loss')\n",
    "plt.legend()\n",
    "plt.show()"
   ]
  },
  {
   "cell_type": "code",
   "execution_count": null,
   "metadata": {
    "id": "MDiqZ3DE3G12"
   },
   "outputs": [],
   "source": []
  }
 ],
 "metadata": {
  "accelerator": "GPU",
  "colab": {
   "collapsed_sections": [],
   "machine_shape": "hm",
   "name": "7Classification_Base model Binary fake_image_amtenet_project.ipynb",
   "provenance": []
  },
  "kernelspec": {
   "display_name": "Python 3 (ipykernel)",
   "language": "python",
   "name": "python3"
  },
  "language_info": {
   "codemirror_mode": {
    "name": "ipython",
    "version": 3
   },
   "file_extension": ".py",
   "mimetype": "text/x-python",
   "name": "python",
   "nbconvert_exporter": "python",
   "pygments_lexer": "ipython3",
   "version": "3.9.0"
  }
 },
 "nbformat": 4,
 "nbformat_minor": 1
}

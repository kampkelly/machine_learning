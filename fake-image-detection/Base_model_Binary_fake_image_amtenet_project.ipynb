{
 "cells": [
  {
   "cell_type": "code",
   "execution_count": null,
   "metadata": {
    "colab": {
     "base_uri": "https://localhost:8080/"
    },
    "id": "rF8rBbiGEQ_y",
    "outputId": "f8ee512a-d590-4d9e-e5ab-d9b3ff1ed5a6"
   },
   "outputs": [
    {
     "name": "stdout",
     "output_type": "stream",
     "text": [
      "Mon Nov 22 04:06:42 2021       \n",
      "+-----------------------------------------------------------------------------+\n",
      "| NVIDIA-SMI 495.44       Driver Version: 460.32.03    CUDA Version: 11.2     |\n",
      "|-------------------------------+----------------------+----------------------+\n",
      "| GPU  Name        Persistence-M| Bus-Id        Disp.A | Volatile Uncorr. ECC |\n",
      "| Fan  Temp  Perf  Pwr:Usage/Cap|         Memory-Usage | GPU-Util  Compute M. |\n",
      "|                               |                      |               MIG M. |\n",
      "|===============================+======================+======================|\n",
      "|   0  Tesla P100-PCIE...  Off  | 00000000:00:04.0 Off |                    0 |\n",
      "| N/A   43C    P0    28W / 250W |      0MiB / 16280MiB |      0%      Default |\n",
      "|                               |                      |                  N/A |\n",
      "+-------------------------------+----------------------+----------------------+\n",
      "                                                                               \n",
      "+-----------------------------------------------------------------------------+\n",
      "| Processes:                                                                  |\n",
      "|  GPU   GI   CI        PID   Type   Process name                  GPU Memory |\n",
      "|        ID   ID                                                   Usage      |\n",
      "|=============================================================================|\n",
      "|  No running processes found                                                 |\n",
      "+-----------------------------------------------------------------------------+\n"
     ]
    }
   ],
   "source": [
    "gpu_info = !nvidia-smi\n",
    "gpu_info = '\\n'.join(gpu_info)\n",
    "if gpu_info.find('failed') >= 0:\n",
    "  print('Not connected to a GPU')\n",
    "else:\n",
    "  print(gpu_info)"
   ]
  },
  {
   "cell_type": "code",
   "execution_count": null,
   "metadata": {
    "colab": {
     "base_uri": "https://localhost:8080/"
    },
    "id": "XH7Nq2GBETMy",
    "outputId": "70d6e512-7d17-469d-8340-8101bc4c1f1c"
   },
   "outputs": [
    {
     "name": "stdout",
     "output_type": "stream",
     "text": [
      "Your runtime has 13.6 gigabytes of available RAM\n",
      "\n",
      "Not using a high-RAM runtime\n"
     ]
    }
   ],
   "source": [
    "from psutil import virtual_memory\n",
    "ram_gb = virtual_memory().total / 1e9\n",
    "print('Your runtime has {:.1f} gigabytes of available RAM\\n'.format(ram_gb))\n",
    "\n",
    "if ram_gb < 20:\n",
    "  print('Not using a high-RAM runtime')\n",
    "else:\n",
    "  print('You are using a high-RAM runtime!')"
   ]
  },
  {
   "cell_type": "code",
   "execution_count": null,
   "metadata": {
    "colab": {
     "base_uri": "https://localhost:8080/"
    },
    "id": "y2Aee6DOVQiP",
    "outputId": "07fde28a-4e68-4725-f927-b47762f2acb4"
   },
   "outputs": [
    {
     "name": "stdout",
     "output_type": "stream",
     "text": [
      "Mounted at /content/gdrive\n"
     ]
    }
   ],
   "source": [
    "from google.colab import drive\n",
    "drive.mount(\"/content/gdrive\")\n"
   ]
  },
  {
   "cell_type": "code",
   "execution_count": null,
   "metadata": {
    "cellView": "code",
    "colab": {
     "base_uri": "https://localhost:8080/"
    },
    "id": "SPxwTlmuHd1u",
    "outputId": "e2cab2d2-f063-424c-c240-816a8f7ccdcc"
   },
   "outputs": [
    {
     "name": "stdout",
     "output_type": "stream",
     "text": [
      "['fakeimage_detection_2.zip', 'deep_fake_detec1', 'deep_fake_detec2', 'deep_fake_detec3', 'fakeimage_detection_3.zip', 'fake_image_detection_4.zip']\n"
     ]
    }
   ],
   "source": [
    "import numpy as np # linear algebra\n",
    "import pandas as pd # data processing, CSV file I/O (e.g. pd.read_csv)\n",
    "\n",
    "import os\n",
    "print(os.listdir(\"./gdrive/MyDrive/ML DL datasets\"))\n"
   ]
  },
  {
   "cell_type": "code",
   "execution_count": null,
   "metadata": {},
   "outputs": [],
   "source": [
    "# unzp archive\n",
    "!unzip \"./gdrive/MyDrive/ML DL datasets/fake_image_detection_4.zip\""
   ]
  },
  {
   "cell_type": "code",
   "execution_count": null,
   "metadata": {
    "colab": {
     "base_uri": "https://localhost:8080/"
    },
    "id": "9s2MVkKdHd12",
    "outputId": "2f7a0b88-1fab-4bc0-a5bb-85b9724189c3"
   },
   "outputs": [
    {
     "name": "stdout",
     "output_type": "stream",
     "text": [
      "fake_image_detection_4\tgdrive\t__MACOSX  sample_data\n"
     ]
    }
   ],
   "source": [
    "training_path = './fake_image_detection_4/train'\n",
    "test_path = './fake_image_detection_4/test'\n",
    "validation_path = './fake_image_detection_4/validation'\n",
    "!ls"
   ]
  },
  {
   "cell_type": "code",
   "execution_count": null,
   "metadata": {
    "colab": {
     "base_uri": "https://localhost:8080/"
    },
    "id": "1k_vlo_5Hd13",
    "outputId": "1957f590-af77-4068-9219-b22d081bf0c1"
   },
   "outputs": [
    {
     "name": "stdout",
     "output_type": "stream",
     "text": [
      "2.7.0\n"
     ]
    }
   ],
   "source": [
    "import math\n",
    "import tensorflow as tf\n",
    "from tensorflow.keras.models import Sequential\n",
    "from tensorflow.keras.layers import SeparableConv2D as Conv2D\n",
    "from tensorflow.keras.layers import MaxPooling2D\n",
    "from tensorflow.keras.layers import Flatten\n",
    "from tensorflow.keras.layers import Dense, Dropout\n",
    "from tensorflow.keras import optimizers\n",
    "from tensorflow.keras import regularizers\n",
    "from tensorflow.keras import layers\n",
    "from tensorflow.keras import activations\n",
    "from tensorflow.keras.callbacks import EarlyStopping, ModelCheckpoint\n",
    "\n",
    "print(tf. __version__) "
   ]
  },
  {
   "cell_type": "code",
   "execution_count": null,
   "metadata": {
    "colab": {
     "base_uri": "https://localhost:8080/"
    },
    "id": "3TRE3TVbHd14",
    "outputId": "e113c25c-42f4-4058-f003-669251e921ec"
   },
   "outputs": [
    {
     "name": "stdout",
     "output_type": "stream",
     "text": [
      "Num GPUs Available:  1\n"
     ]
    }
   ],
   "source": [
    "print(\"Num GPUs Available: \", len(tf.config.list_physical_devices('GPU')))"
   ]
  },
  {
   "cell_type": "code",
   "execution_count": null,
   "metadata": {
    "id": "HMC-mvazHd18"
   },
   "outputs": [],
   "source": [
    "# import keras\n",
    "from tensorflow import keras\n",
    "from tensorflow.keras.preprocessing.image import ImageDataGenerator\n",
    "\n",
    "train_datagen = ImageDataGenerator(rescale = 1./255,\n",
    "                                   shear_range = 0.2,\n",
    "                                   zoom_range = 0.2,\n",
    "                                  #  rotation_range = 10,\n",
    "                                  #  width_shift_range = 0.1,\n",
    "                                  #  height_shift_range = 0.1,\n",
    "                                   horizontal_flip = True)\n",
    "valid_datagen = ImageDataGenerator(rescale = 1./255)"
   ]
  },
  {
   "cell_type": "code",
   "execution_count": null,
   "metadata": {
    "colab": {
     "base_uri": "https://localhost:8080/"
    },
    "id": "tFOAUxVZHd18",
    "outputId": "caf6c424-374e-45a3-c83e-61c0afcd8259"
   },
   "outputs": [
    {
     "name": "stdout",
     "output_type": "stream",
     "text": [
      "Found 107190 images belonging to 2 classes.\n"
     ]
    }
   ],
   "source": [
    "batch_size = 64\n",
    "input_size=128\n",
    "training_set = train_datagen.flow_from_directory(training_path,\n",
    "                                                 target_size = (input_size, input_size),\n",
    "                                                 batch_size = batch_size,\n",
    "                                                 class_mode = 'categorical')"
   ]
  },
  {
   "cell_type": "code",
   "execution_count": null,
   "metadata": {
    "colab": {
     "base_uri": "https://localhost:8080/"
    },
    "id": "T4CWze7XHd19",
    "outputId": "cc8731fc-a961-4a28-f717-e8683b865042"
   },
   "outputs": [
    {
     "name": "stdout",
     "output_type": "stream",
     "text": [
      "Found 6699 images belonging to 2 classes.\n"
     ]
    }
   ],
   "source": [
    "validation_set = valid_datagen.flow_from_directory(validation_path,\n",
    "                                                 target_size = (input_size, input_size),\n",
    "                                                 batch_size = batch_size,\n",
    "                                                 class_mode = 'categorical')"
   ]
  },
  {
   "cell_type": "code",
   "execution_count": null,
   "metadata": {
    "id": "o2JAAs5YN89W"
   },
   "outputs": [],
   "source": [
    "# stop_early = tf.keras.callbacks.EarlyStopping(monitor='val_accuracy', patience=2, verbose=2, baseline=0.801, min_delta=0.001)\n",
    "checkpoint_filepath = '/content/gdrive/MyDrive/dl_models/checkpoint'\n",
    "custom_callbacks = [\n",
    "    EarlyStopping(\n",
    "        monitor = 'val_loss',\n",
    "        mode = 'min',\n",
    "        patience = 5,\n",
    "        verbose = 1\n",
    "    ),\n",
    "    ModelCheckpoint(\n",
    "        filepath = os.path.join(checkpoint_filepath, 'best_base_model.h5'),\n",
    "        monitor = 'val_loss',\n",
    "        mode = 'min',\n",
    "        verbose = 1,\n",
    "        save_best_only = True\n",
    "    )\n",
    "]"
   ]
  },
  {
   "cell_type": "code",
   "execution_count": null,
   "metadata": {
    "colab": {
     "base_uri": "https://localhost:8080/"
    },
    "id": "SZyM4g4cgBjc",
    "outputId": "a30fd4c4-e347-4eda-abfa-41c4d1dd587a"
   },
   "outputs": [
    {
     "name": "stdout",
     "output_type": "stream",
     "text": [
      "Model: \"sequential_1\"\n",
      "_________________________________________________________________\n",
      " Layer (type)                Output Shape              Param #   \n",
      "=================================================================\n",
      " separable_conv2d_3 (Separab  (None, 126, 126, 3)      39        \n",
      " leConv2D)                                                       \n",
      "                                                                 \n",
      " separable_conv2d_4 (Separab  (None, 124, 124, 24)     123       \n",
      " leConv2D)                                                       \n",
      "                                                                 \n",
      " separable_conv2d_5 (Separab  (None, 122, 122, 64)     1816      \n",
      " leConv2D)                                                       \n",
      "                                                                 \n",
      "=================================================================\n",
      "Total params: 1,978\n",
      "Trainable params: 1,978\n",
      "Non-trainable params: 0\n",
      "_________________________________________________________________\n"
     ]
    }
   ],
   "source": [
    "# # Baseline model\n",
    "classifier = Sequential()\n",
    "classifier.add(Conv2D(3, (3, 3), input_shape = (input_size, input_size, 3)))\n",
    "classifier.add(Conv2D(24, (3, 3)))\n",
    "classifier.add(Conv2D(64, (3, 3)))\n",
    "\n",
    "classifier.summary()\n",
    "classifier.add(Flatten())\n",
    "\n",
    "classifier.add(Dense(units = 300))\n",
    "classifier.add(Dense(units = 128))\n",
    "classifier.add(Dense(units = 2, activation = 'softmax'))\n",
    "classifier.compile(optimizer = optimizers.Adam(learning_rate=0.001), loss = 'categorical_crossentropy', metrics = ['accuracy'])"
   ]
  },
  {
   "cell_type": "code",
   "execution_count": 19,
   "metadata": {
    "colab": {
     "base_uri": "https://localhost:8080/"
    },
    "id": "qkzVr81rvP3j",
    "outputId": "881ce472-83b6-422e-aa99-ba9a73e2e01c"
   },
   "outputs": [
    {
     "name": "stdout",
     "output_type": "stream",
     "text": [
      "Epoch 1/10\n",
      "1675/1675 [==============================] - ETA: 0s - loss: 1.2143 - accuracy: 0.8487\n",
      "Epoch 00001: val_loss improved from inf to 0.34854, saving model to /content/gdrive/MyDrive/dl_models/checkpoint/best_base_model.h5\n",
      "1675/1675 [==============================] - 1077s 633ms/step - loss: 1.2143 - accuracy: 0.8487 - val_loss: 0.3485 - val_accuracy: 0.8668\n",
      "Epoch 2/10\n",
      "1675/1675 [==============================] - ETA: 0s - loss: 0.3524 - accuracy: 0.8629\n",
      "Epoch 00002: val_loss did not improve from 0.34854\n",
      "1675/1675 [==============================] - 1064s 635ms/step - loss: 0.3524 - accuracy: 0.8629 - val_loss: 0.3627 - val_accuracy: 0.8400\n",
      "Epoch 3/10\n",
      "1675/1675 [==============================] - ETA: 0s - loss: 0.3604 - accuracy: 0.8586\n",
      "Epoch 00003: val_loss improved from 0.34854 to 0.34564, saving model to /content/gdrive/MyDrive/dl_models/checkpoint/best_base_model.h5\n",
      "1675/1675 [==============================] - 1028s 613ms/step - loss: 0.3604 - accuracy: 0.8586 - val_loss: 0.3456 - val_accuracy: 0.8707\n",
      "Epoch 4/10\n",
      "1675/1675 [==============================] - ETA: 0s - loss: 0.3560 - accuracy: 0.8607\n",
      "Epoch 00004: val_loss did not improve from 0.34564\n",
      "1675/1675 [==============================] - 1070s 639ms/step - loss: 0.3560 - accuracy: 0.8607 - val_loss: 0.3465 - val_accuracy: 0.8624\n",
      "Epoch 5/10\n",
      "1675/1675 [==============================] - ETA: 0s - loss: 0.3805 - accuracy: 0.8577\n",
      "Epoch 00005: val_loss improved from 0.34564 to 0.34237, saving model to /content/gdrive/MyDrive/dl_models/checkpoint/best_base_model.h5\n",
      "1675/1675 [==============================] - 984s 587ms/step - loss: 0.3805 - accuracy: 0.8577 - val_loss: 0.3424 - val_accuracy: 0.8670\n",
      "Epoch 6/10\n",
      "1675/1675 [==============================] - ETA: 0s - loss: 0.3463 - accuracy: 0.8658\n",
      "Epoch 00006: val_loss did not improve from 0.34237\n",
      "1675/1675 [==============================] - 1053s 628ms/step - loss: 0.3463 - accuracy: 0.8658 - val_loss: 0.3454 - val_accuracy: 0.8715\n",
      "Epoch 7/10\n",
      "1675/1675 [==============================] - ETA: 0s - loss: 0.3477 - accuracy: 0.8656\n",
      "Epoch 00007: val_loss did not improve from 0.34237\n",
      "1675/1675 [==============================] - 957s 572ms/step - loss: 0.3477 - accuracy: 0.8656 - val_loss: 0.3472 - val_accuracy: 0.8724\n",
      "Epoch 8/10\n",
      "1675/1675 [==============================] - ETA: 0s - loss: 0.3474 - accuracy: 0.8647\n",
      "Epoch 00008: val_loss improved from 0.34237 to 0.34160, saving model to /content/gdrive/MyDrive/dl_models/checkpoint/best_base_model.h5\n",
      "1675/1675 [==============================] - 964s 575ms/step - loss: 0.3474 - accuracy: 0.8647 - val_loss: 0.3416 - val_accuracy: 0.8730\n",
      "Epoch 9/10\n",
      "1675/1675 [==============================] - ETA: 0s - loss: 0.3460 - accuracy: 0.8653\n",
      "Epoch 00009: val_loss did not improve from 0.34160\n",
      "1675/1675 [==============================] - 1028s 614ms/step - loss: 0.3460 - accuracy: 0.8653 - val_loss: 0.3896 - val_accuracy: 0.8095\n",
      "Epoch 10/10\n",
      "1675/1675 [==============================] - ETA: 0s - loss: 0.3450 - accuracy: 0.8657\n",
      "Epoch 00010: val_loss did not improve from 0.34160\n",
      "1675/1675 [==============================] - 911s 544ms/step - loss: 0.3450 - accuracy: 0.8657 - val_loss: 0.3432 - val_accuracy: 0.8680\n"
     ]
    }
   ],
   "source": [
    "# 1693 or 3386\n",
    "history = classifier.fit(\n",
    "                        training_set,\n",
    "                        steps_per_epoch=len(training_set),\n",
    "                        epochs=10,\n",
    "                        verbose=1,\n",
    "                        validation_data=validation_set,\n",
    "                        callbacks = custom_callbacks\n",
    "                         )"
   ]
  },
  {
   "cell_type": "code",
   "execution_count": null,
   "metadata": {
    "colab": {
     "base_uri": "https://localhost:8080/"
    },
    "id": "NUuSruwQHd1_",
    "outputId": "f7dd649e-f872-4a09-8383-7d831901b9c6"
   },
   "outputs": [
    {
     "name": "stderr",
     "output_type": "stream",
     "text": [
      "/usr/local/lib/python3.7/dist-packages/keras/engine/functional.py:1410: CustomMaskWarning: Custom mask layers require a config and must override get_config. When loading, the custom mask layer must be passed to the custom_objects argument.\n",
      "  layer_config = serialize_layer_fn(layer)\n"
     ]
    }
   ],
   "source": [
    "save_path = '/content/gdrive/MyDrive/dl_models/'\n",
    "model_name = 'categorical_fake_image_classifierEfB80.h5'\n",
    "classifier.save(save_path + model_name)"
   ]
  },
  {
   "cell_type": "code",
   "execution_count": null,
   "metadata": {
    "colab": {
     "base_uri": "https://localhost:8080/"
    },
    "id": "MNJpauVDkq-v",
    "outputId": "0eff0976-ee6e-470a-949b-ffa24b59436c"
   },
   "outputs": [
    {
     "name": "stdout",
     "output_type": "stream",
     "text": [
      "fake_image_classifierEfB80.h5\n"
     ]
    }
   ],
   "source": [
    "!ls  /content/gdrive/MyDrive/dl_models"
   ]
  },
  {
   "cell_type": "code",
   "execution_count": 21,
   "metadata": {
    "id": "5wyIyooFHd2A"
   },
   "outputs": [],
   "source": [
    "from keras.models import load_model\n",
    "best_model = '/content/gdrive/MyDrive/dl_models/checkpoint/best_base_model.h5'\n",
    "model = load_model(best_model)\n",
    "# classifier = model"
   ]
  },
  {
   "cell_type": "markdown",
   "metadata": {
    "id": "zoyK_-XvMIX_"
   },
   "source": [
    "**Prediction section**"
   ]
  },
  {
   "cell_type": "code",
   "execution_count": 22,
   "metadata": {
    "id": "KwpGy79PHd2A"
   },
   "outputs": [],
   "source": [
    "def predict_images(folder, image_name):\n",
    "    #Making Single new prediction\n",
    "    import numpy as np\n",
    "    #from keras.preprocessing.image import image\n",
    "    import keras.preprocessing.image as image\n",
    "    test_image = image.load_img(f'./fake_image_detection_4/test/{folder}/{image_name}', target_size = (input_size, input_size))\n",
    "    test_image = image.img_to_array(test_image)\n",
    "    test_image = test_image /255.\n",
    "    #use this function to change the image from 2dimension(64, 64) to 3dimension(64, 64, 3)\n",
    "    test_image = np.expand_dims(test_image, axis=0)\n",
    "    #add one more dimension before predicting because the predict method expects a batch\n",
    "    images = np.vstack([test_image])\n",
    "    result = model.predict(images, batch_size=10)\n",
    "\n",
    "    prediction = ''\n",
    "    if np.argmax(result) == 0:\n",
    "      prediction = 'fake'\n",
    "    elif np.argmax(result) == 1:\n",
    "      prediction = 'real'\n",
    "    return prediction"
   ]
  },
  {
   "cell_type": "code",
   "execution_count": 23,
   "metadata": {
    "id": "mogCF2HeHd2B"
   },
   "outputs": [],
   "source": [
    "\n",
    "import os\n",
    "fake_images = os.listdir(\"./fake_image_detection_4/test/fake\")\n",
    "real_images = os.listdir(\"./fake_image_detection_4/test/real\")\n",
    "\n",
    "res_fake = []\n",
    "res_real = []\n",
    "\n",
    "for image_name in fake_images:\n",
    "    res_fake.append(predict_images('fake', image_name))\n",
    "for image_name in real_images:\n",
    "    res_real.append(predict_images('real', image_name))"
   ]
  },
  {
   "cell_type": "code",
   "execution_count": 24,
   "metadata": {
    "colab": {
     "base_uri": "https://localhost:8080/"
    },
    "id": "kAT_cuWdHd2B",
    "outputId": "c53f1a25-5f97-4f4a-8051-28067bda661b",
    "scrolled": true
   },
   "outputs": [
    {
     "data": {
      "text/plain": [
       "(Counter({'fake': 10001, 'real': 48}), Counter({'fake': 2530, 'real': 7519}))"
      ]
     },
     "execution_count": 24,
     "metadata": {},
     "output_type": "execute_result"
    }
   ],
   "source": [
    "from collections import Counter\n",
    "results = (Counter(res_fake), Counter(res_real))\n",
    "results"
   ]
  },
  {
   "cell_type": "code",
   "execution_count": 29,
   "metadata": {
    "colab": {
     "base_uri": "https://localhost:8080/",
     "height": 545
    },
    "id": "bfzBsfXWvLmt",
    "outputId": "f897c31b-7863-4b22-bf31-b6ebeb3a923e"
   },
   "outputs": [
    {
     "data": {
      "image/png": "[encoded data removed]",
      "text/plain": [
       "<Figure size 432x288 with 1 Axes>"
      ]
     },
     "metadata": {
      "needs_background": "light"
     },
     "output_type": "display_data"
    },
    {
     "data": {
      "image/png": "[encoded data removed]",
      "text/plain": [
       "<Figure size 432x288 with 1 Axes>"
      ]
     },
     "metadata": {
      "needs_background": "light"
     },
     "output_type": "display_data"
    }
   ],
   "source": [
    "import matplotlib.pyplot as plt\n",
    "\n",
    "acc = history.history['accuracy']\n",
    "val_acc = history.history['val_accuracy']\n",
    "loss = history.history['loss']\n",
    "val_loss = history.history['val_loss']\n",
    "epochs = range(1, len(acc) + 1)\n",
    "plt.plot(epochs, acc, 'bo', label='Training acc')\n",
    "plt.plot(epochs, val_acc, 'b', label='Validation acc')\n",
    "plt.title('Training and validation accuracy')\n",
    "plt.legend()\n",
    "plt.figure()\n",
    "plt.plot(epochs, loss, 'bo', label='Training loss')\n",
    "plt.plot(epochs, val_loss, 'b', label='Validation loss')\n",
    "plt.title('Training and validation loss')\n",
    "plt.legend()\n",
    "plt.show()"
   ]
  }
 ],
 "metadata": {
  "accelerator": "GPU",
  "colab": {
   "collapsed_sections": [],
   "machine_shape": "hm",
   "name": "Base model Binary fake_image_amtenet_project.ipynb",
   "provenance": []
  },
  "kernelspec": {
   "display_name": "Python 3",
   "language": "python",
   "name": "python3"
  },
  "language_info": {
   "codemirror_mode": {
    "name": "ipython",
    "version": 3
   },
   "file_extension": ".py",
   "mimetype": "text/x-python",
   "name": "python",
   "nbconvert_exporter": "python",
   "pygments_lexer": "ipython3",
   "version": "3.9.6"
  },
  "vscode": {
   "interpreter": {
    "hash": "31f2aee4e71d21fbe5cf8b01ff0e069b9275f58929596ceb00d14d90e3e16cd6"
   }
  }
 },
 "nbformat": 4,
 "nbformat_minor": 1
}
